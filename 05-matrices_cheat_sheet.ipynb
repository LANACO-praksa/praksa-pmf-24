{
 "cells": [
  {
   "cell_type": "code",
   "execution_count": 1,
   "metadata": {},
   "outputs": [],
   "source": [
    "import random\n",
    "import numpy as np"
   ]
  },
  {
   "cell_type": "code",
   "execution_count": 2,
   "metadata": {},
   "outputs": [],
   "source": [
    "matrix = [ [random.randint(1, 99) for k in range(8)] for i in range(3)] #dvostruki list comprehension kako bi se kreirala matrica"
   ]
  },
  {
   "cell_type": "code",
   "execution_count": 3,
   "metadata": {},
   "outputs": [
    {
     "data": {
      "text/plain": [
       "[[9, 34, 83, 2, 10, 96, 58, 85],\n",
       " [75, 61, 4, 94, 18, 27, 60, 79],\n",
       " [26, 63, 64, 32, 17, 26, 95, 66]]"
      ]
     },
     "execution_count": 3,
     "metadata": {},
     "output_type": "execute_result"
    }
   ],
   "source": [
    "matrix"
   ]
  },
  {
   "cell_type": "code",
   "execution_count": 4,
   "metadata": {},
   "outputs": [],
   "source": [
    "matrix_np = np.array(matrix)"
   ]
  },
  {
   "attachments": {},
   "cell_type": "markdown",
   "metadata": {},
   "source": [
    "Lako se može matrica predstavljena numpy nizom transponovati:"
   ]
  },
  {
   "cell_type": "code",
   "execution_count": 5,
   "metadata": {},
   "outputs": [
    {
     "data": {
      "text/plain": [
       "array([[ 9, 75, 26],\n",
       "       [34, 61, 63],\n",
       "       [83,  4, 64],\n",
       "       [ 2, 94, 32],\n",
       "       [10, 18, 17],\n",
       "       [96, 27, 26],\n",
       "       [58, 60, 95],\n",
       "       [85, 79, 66]])"
      ]
     },
     "execution_count": 5,
     "metadata": {},
     "output_type": "execute_result"
    }
   ],
   "source": [
    "matrix_np.T"
   ]
  },
  {
   "attachments": {},
   "cell_type": "markdown",
   "metadata": {},
   "source": [
    "numpy niz ima atribut `shape` koji sadrži informaciju o dimenzijama niza:"
   ]
  },
  {
   "cell_type": "code",
   "execution_count": 6,
   "metadata": {},
   "outputs": [
    {
     "data": {
      "text/plain": [
       "(3, 8)"
      ]
     },
     "execution_count": 6,
     "metadata": {},
     "output_type": "execute_result"
    }
   ],
   "source": [
    "matrix_np.shape"
   ]
  },
  {
   "attachments": {},
   "cell_type": "markdown",
   "metadata": {},
   "source": [
    "Metod `reshape()` modifikuje dimenzije niza nad kojim se poziva u proslijeđene dimenzije. Niz je moguće predimenzionisati samo u odgovarajuće dimenzije, tj. proizvod proslijeđenih dimenzija mora biti jednak proizvodu početnih dimenzija. Takođe broj dimenzija ne mora biti jednak početnom."
   ]
  },
  {
   "cell_type": "code",
   "execution_count": 7,
   "metadata": {},
   "outputs": [
    {
     "data": {
      "text/plain": [
       "array([[[ 9, 34],\n",
       "        [83,  2],\n",
       "        [10, 96]],\n",
       "\n",
       "       [[58, 85],\n",
       "        [75, 61],\n",
       "        [ 4, 94]],\n",
       "\n",
       "       [[18, 27],\n",
       "        [60, 79],\n",
       "        [26, 63]],\n",
       "\n",
       "       [[64, 32],\n",
       "        [17, 26],\n",
       "        [95, 66]]])"
      ]
     },
     "execution_count": 7,
     "metadata": {},
     "output_type": "execute_result"
    }
   ],
   "source": [
    "matrix_np.reshape(4, 3, 2)"
   ]
  },
  {
   "attachments": {},
   "cell_type": "markdown",
   "metadata": {},
   "source": [
    "Ovom metodu je moguće kao parametar proslijediti `-1` u slučaju kad nismo sigurni koja je preostala dimenzija."
   ]
  },
  {
   "cell_type": "code",
   "execution_count": 8,
   "metadata": {},
   "outputs": [
    {
     "data": {
      "text/plain": [
       "array([[[ 9, 34],\n",
       "        [83,  2],\n",
       "        [10, 96]],\n",
       "\n",
       "       [[58, 85],\n",
       "        [75, 61],\n",
       "        [ 4, 94]],\n",
       "\n",
       "       [[18, 27],\n",
       "        [60, 79],\n",
       "        [26, 63]],\n",
       "\n",
       "       [[64, 32],\n",
       "        [17, 26],\n",
       "        [95, 66]]])"
      ]
     },
     "execution_count": 8,
     "metadata": {},
     "output_type": "execute_result"
    }
   ],
   "source": [
    "matrix_np.reshape(-1, 3, 2)"
   ]
  },
  {
   "attachments": {},
   "cell_type": "markdown",
   "metadata": {},
   "source": [
    "Jedna od proslijeđenih dimenzija možće biti i broj `1`, dok god je zadovoljen uslov o proizvodu dimenzija."
   ]
  },
  {
   "cell_type": "code",
   "execution_count": 9,
   "metadata": {},
   "outputs": [
    {
     "data": {
      "text/plain": [
       "array([[[ 9],\n",
       "        [34],\n",
       "        [83],\n",
       "        [ 2],\n",
       "        [10],\n",
       "        [96],\n",
       "        [58],\n",
       "        [85]],\n",
       "\n",
       "       [[75],\n",
       "        [61],\n",
       "        [ 4],\n",
       "        [94],\n",
       "        [18],\n",
       "        [27],\n",
       "        [60],\n",
       "        [79]],\n",
       "\n",
       "       [[26],\n",
       "        [63],\n",
       "        [64],\n",
       "        [32],\n",
       "        [17],\n",
       "        [26],\n",
       "        [95],\n",
       "        [66]]])"
      ]
     },
     "execution_count": 9,
     "metadata": {},
     "output_type": "execute_result"
    }
   ],
   "source": [
    "matrix_np.reshape(3, 8, 1)"
   ]
  },
  {
   "cell_type": "code",
   "execution_count": 10,
   "metadata": {},
   "outputs": [],
   "source": [
    "matrix_np = matrix_np.reshape(4, 6)"
   ]
  },
  {
   "attachments": {},
   "cell_type": "markdown",
   "metadata": {},
   "source": [
    "**`astype()`** pretvori sve elemente objekta *numpy array* u tip koji se proslijedi kao parametar.  "
   ]
  },
  {
   "cell_type": "code",
   "execution_count": 11,
   "metadata": {},
   "outputs": [
    {
     "data": {
      "text/plain": [
       "array([[ 9., 34., 83.,  2., 10., 96.],\n",
       "       [58., 85., 75., 61.,  4., 94.],\n",
       "       [18., 27., 60., 79., 26., 63.],\n",
       "       [64., 32., 17., 26., 95., 66.]], dtype=float32)"
      ]
     },
     "execution_count": 11,
     "metadata": {},
     "output_type": "execute_result"
    }
   ],
   "source": [
    "matrix_np.astype('float32')"
   ]
  },
  {
   "attachments": {},
   "cell_type": "markdown",
   "metadata": {},
   "source": [
    "Funkcija **`rand()`** *`np.random`* modula kao paremtar uzima *`tuple`* koji predstavlja oblik (dimenzije) *numpy array*-a kojeg želimo popuniti elementima intervala `[0,1)`."
   ]
  },
  {
   "cell_type": "code",
   "execution_count": 33,
   "metadata": {},
   "outputs": [],
   "source": [
    "vector = np.random.rand(6,1)"
   ]
  },
  {
   "cell_type": "code",
   "execution_count": 34,
   "metadata": {},
   "outputs": [
    {
     "data": {
      "text/plain": [
       "array([[0.25738503],\n",
       "       [0.49434521],\n",
       "       [0.69604821],\n",
       "       [0.08843022],\n",
       "       [0.03065612],\n",
       "       [0.07364478]])"
      ]
     },
     "execution_count": 34,
     "metadata": {},
     "output_type": "execute_result"
    }
   ],
   "source": [
    "vector"
   ]
  },
  {
   "attachments": {},
   "cell_type": "markdown",
   "metadata": {},
   "source": [
    "`numpy` biblioteka nudi funkciju `dot()` koja vrši množenje matrica nad proslijeđenim `np.array` nizovima. Proslijeđeni nizovi moraju imati odgovarajuće dimenzije."
   ]
  },
  {
   "cell_type": "code",
   "execution_count": 39,
   "metadata": {},
   "outputs": [],
   "source": [
    "vector_2 = np.dot(matrix_np, vector)"
   ]
  },
  {
   "cell_type": "code",
   "execution_count": 40,
   "metadata": {},
   "outputs": [
    {
     "data": {
      "text/plain": [
       "(4, 1)"
      ]
     },
     "execution_count": 40,
     "metadata": {},
     "output_type": "execute_result"
    }
   ],
   "source": [
    "vector_2.shape"
   ]
  },
  {
   "cell_type": "code",
   "execution_count": null,
   "metadata": {},
   "outputs": [],
   "source": []
  },
  {
   "cell_type": "code",
   "execution_count": 41,
   "metadata": {},
   "outputs": [],
   "source": [
    "matrix_2 = np.random.rand(5,4)*100 #drugi način na koji se može jednostavnije kreirati matrica"
   ]
  },
  {
   "cell_type": "code",
   "execution_count": 42,
   "metadata": {},
   "outputs": [
    {
     "data": {
      "text/plain": [
       "array([[97.36468955, 90.14983145, 21.79129603, 67.42288434],\n",
       "       [31.37965706, 86.75210047, 21.05687731, 19.67897065],\n",
       "       [79.63566015, 46.5944124 , 66.26954805, 80.06375564],\n",
       "       [87.16441361,  6.52877204, 73.17421106, 24.40252749],\n",
       "       [19.7296316 , 44.75906112, 87.724182  , 48.06787256]])"
      ]
     },
     "execution_count": 42,
     "metadata": {},
     "output_type": "execute_result"
    }
   ],
   "source": [
    "matrix_2"
   ]
  },
  {
   "cell_type": "code",
   "execution_count": 43,
   "metadata": {},
   "outputs": [
    {
     "data": {
      "text/plain": [
       "array([[24410.46544792],\n",
       "       [15784.37126848],\n",
       "       [21512.22165159],\n",
       "       [14758.04165707],\n",
       "       [16044.24783889]])"
      ]
     },
     "execution_count": 43,
     "metadata": {},
     "output_type": "execute_result"
    }
   ],
   "source": [
    "np.dot(matrix_2, vector_2)"
   ]
  },
  {
   "attachments": {},
   "cell_type": "markdown",
   "metadata": {},
   "source": [
    "Imitiranje množenja matrice unutar modela neuronske mrže. Prvo definišemo matrice težina. Umanjimo nasumične brojeve za 0.5 kako bi dobili i negativne brojeve, pomnožimo sa 100 i pretvorimo u integer-e. Tako smo osigurali da se sve matrice sastoje od cijelih brojeva koji su veći od -50 i manji od 50."
   ]
  },
  {
   "cell_type": "code",
   "execution_count": 44,
   "metadata": {},
   "outputs": [],
   "source": [
    "weights_1 = ((np.random.rand(4,6)-0.5)*100).astype('int64')\n",
    "weights_2 = ((np.random.rand(5,4)-0.5)*100).astype('int64')\n",
    "weights_3 = ((np.random.rand(3,5)-0.5)*100).astype('int64')"
   ]
  },
  {
   "cell_type": "code",
   "execution_count": 45,
   "metadata": {},
   "outputs": [
    {
     "data": {
      "text/plain": [
       "array([[  4,  -1,  24,  37,  38],\n",
       "       [ 10,  17,   5, -20,  38],\n",
       "       [  2,  27, -25, -15,  41]], dtype=int64)"
      ]
     },
     "execution_count": 45,
     "metadata": {},
     "output_type": "execute_result"
    }
   ],
   "source": [
    "weights_3"
   ]
  },
  {
   "attachments": {},
   "cell_type": "markdown",
   "metadata": {},
   "source": [
    "Sada se kreira vektor sa kojim ćemo množiti težinske matrice."
   ]
  },
  {
   "cell_type": "code",
   "execution_count": 48,
   "metadata": {},
   "outputs": [],
   "source": [
    "x = (np.random.rand(6, 1)-0.5)/5 #njegove koordinate su male kako se ne bi dobili preveliki brojevi pri množenju"
   ]
  },
  {
   "cell_type": "code",
   "execution_count": 49,
   "metadata": {},
   "outputs": [
    {
     "data": {
      "text/plain": [
       "array([[ 13029.76479718],\n",
       "       [ -9056.66865592],\n",
       "       [-14455.02981962]])"
      ]
     },
     "execution_count": 49,
     "metadata": {},
     "output_type": "execute_result"
    }
   ],
   "source": [
    "np.dot(weights_3, np.dot(weights_2, np.dot(weights_1, x)))"
   ]
  },
  {
   "attachments": {},
   "cell_type": "markdown",
   "metadata": {},
   "source": [
    "Kreiramo sad bias-e."
   ]
  },
  {
   "cell_type": "code",
   "execution_count": 50,
   "metadata": {},
   "outputs": [],
   "source": [
    "bias_1 = ((np.random.rand(4,1)-0.5)*10)\n",
    "bias_2 = ((np.random.rand(5,1)-0.5)*10)\n",
    "bias_3 = ((np.random.rand(3,1)-0.5)*10)"
   ]
  },
  {
   "cell_type": "code",
   "execution_count": 51,
   "metadata": {},
   "outputs": [
    {
     "data": {
      "text/plain": [
       "array([[ 11201.85354031],\n",
       "       [-21677.33328627],\n",
       "       [-28497.98813937]])"
      ]
     },
     "execution_count": 51,
     "metadata": {},
     "output_type": "execute_result"
    }
   ],
   "source": [
    "np.dot(weights_3, np.dot(weights_2, np.dot(weights_1, x)+bias_1)+bias_2)+bias_3"
   ]
  },
  {
   "attachments": {},
   "cell_type": "markdown",
   "metadata": {},
   "source": [
    "I uvodimo još jedan dio iz neuronskih mreža tj. funkciju aktivacije. Koristićemo sigmoid funkciju koja slika $x$ u $\\frac{1}{1+e^{-x}}$"
   ]
  },
  {
   "cell_type": "code",
   "execution_count": 52,
   "metadata": {},
   "outputs": [],
   "source": [
    "def sigmoid(x):\n",
    "    return 1.0/(1.0+np.exp(-x))"
   ]
  },
  {
   "cell_type": "code",
   "execution_count": 53,
   "metadata": {},
   "outputs": [
    {
     "data": {
      "text/plain": [
       "array([[1.00000000e+00],\n",
       "       [3.55624166e-08],\n",
       "       [4.24662519e-16]])"
      ]
     },
     "execution_count": 53,
     "metadata": {},
     "output_type": "execute_result"
    }
   ],
   "source": [
    "sigmoid(np.dot(weights_3, sigmoid(np.dot(weights_2, sigmoid(np.dot(weights_1, x)+bias_1))+bias_2))+bias_3)"
   ]
  },
  {
   "cell_type": "code",
   "execution_count": null,
   "metadata": {},
   "outputs": [],
   "source": []
  }
 ],
 "metadata": {
  "kernelspec": {
   "display_name": "ai_python",
   "language": "python",
   "name": "python3"
  },
  "language_info": {
   "codemirror_mode": {
    "name": "ipython",
    "version": 3
   },
   "file_extension": ".py",
   "mimetype": "text/x-python",
   "name": "python",
   "nbconvert_exporter": "python",
   "pygments_lexer": "ipython3",
   "version": "3.8.3"
  },
  "orig_nbformat": 4,
  "vscode": {
   "interpreter": {
    "hash": "53e26e92eb047fac0a8b0208801dfe952f4f8952e82e087046918172140b19c2"
   }
  }
 },
 "nbformat": 4,
 "nbformat_minor": 2
}
