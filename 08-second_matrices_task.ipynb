{
 "cells": [
  {
   "cell_type": "markdown",
   "metadata": {},
   "source": [
    "**Zadatak:**\n",
    "\n",
    "Kreiraj dvije matrice formata $10\\times5$ koje u svakom redu sadrže nasumične brojeve od 0 do 100. Pronaći gdje matrice A i B imaju maksimalne elemente vrsti na istim pozicijama, tj. u istoj koloni za istu vrstu. Pokušaj da ne koristiš petlje pri pronalsku pozicija."
   ]
  }
 ],
 "metadata": {
  "kernelspec": {
   "display_name": "ai_python",
   "language": "python",
   "name": "python3"
  },
  "language_info": {
   "codemirror_mode": {
    "name": "ipython",
    "version": 3
   },
   "file_extension": ".py",
   "mimetype": "text/x-python",
   "name": "python",
   "nbconvert_exporter": "python",
   "pygments_lexer": "ipython3",
   "version": "3.8.3"
  },
  "orig_nbformat": 4,
  "vscode": {
   "interpreter": {
    "hash": "53e26e92eb047fac0a8b0208801dfe952f4f8952e82e087046918172140b19c2"
   }
  }
 },
 "nbformat": 4,
 "nbformat_minor": 2
}
