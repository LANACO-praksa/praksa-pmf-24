{
  "nbformat": 4,
  "nbformat_minor": 0,
  "metadata": {
    "colab": {
      "provenance": [],
      "collapsed_sections": [
        "uiSPDftDJMWV",
        "oyc37Kd3JVyR",
        "T6Bw_uXgJaWe",
        "3pu8rAYIJfgO",
        "bHrLhMMCJmvf",
        "iY1gwllo2crZ"
      ],
      "gpuType": "T4"
    },
    "kernelspec": {
      "name": "python3",
      "display_name": "Python 3"
    },
    "language_info": {
      "name": "python"
    },
    "accelerator": "GPU"
  },
  "cells": [
    {
      "cell_type": "markdown",
      "source": [
        "## Kratak uvod u RAG koristeći LangChain i HuggingFace\n",
        "\n",
        "**Retrieval-augmented generation**, skraćeno RAG, je tehnika koja poboljšava pouzdanost generativnih modela sa mogućnostima pronalaženja (retrieval).\n",
        "\n",
        "RAG koristimo da dopunimo velike jezičke modele, skraćeno VJM tj. LLM - Large Language Model, tako što im na taj način omogućavamo pristup relevantnim informacijama iz spoljnih izvora, poboljšavajući time sposobnost VJM modela da generiše odgovore koji su relevantni i tačni za zadane upite.\n",
        "\n",
        "Pogledajte ilustraciju:\n",
        "\n",
        "![picture](https://drive.google.com/uc?id=1qRU-B8TjYDz8ANRB7Y1lPwIRdehijurL)\n",
        "\n",
        "**Izvor za ilustraciju:** [DataKolektiv](https://datakolektiv.com/)\n",
        "\n",
        "\n",
        "\n",
        "1. **Embeddings**  \n",
        "  *Embeddings* predstavlja vektorsku reprezentaciju, u našem slučaju, teksta.\n",
        "2. **Prompt + Query**  \n",
        "  *Prompt* predstavlja početni upit koju korisnik postavlja LLM modelu, a *query* je konkretno pitanje ili zahtjev koji se postavlja.\n",
        "3. **Query Embedding**  \n",
        "  *Query Embedding* je vektorska reprezentacija upita. Ovaj vektor se koristi za pretraživanje relevantnih dokumenata u vektorskoj reprezentaciji.\n",
        "4. **Relevant Context Documents**  \n",
        "  *Relevant Context Documents* su dokumenti ili informacije iz baze koje su relevantne za postavljeni upit.\n",
        "5. **Enhanced Prompt**  \n",
        "  *Enhanced Prompt* je verzija osnovnog prompta koja uključuje informacije iz relevantnih dokumenata, odnosno sadrži kontekst koji će LLM-u pomoći prilikom generisanja odgovora. Ovaj odgovor je rezultat RAG sistema koji kombinuje informacije iz početnog prompta, korisničkog upita i odgovarajućeg konteksta."
      ],
      "metadata": {
        "id": "95sKK-a27v-w"
      }
    },
    {
      "cell_type": "markdown",
      "source": [
        "## Zadatak\n",
        "\n",
        "Vaš zadatak je da kreirate RAG koristeći HuggingFace (za javno dostupne modele) i LangChain.\n",
        "\n",
        "**Koraci:**\n",
        "\n",
        "0. Instalacija potrebnih paketa\n",
        "1. Učitavanje i priprema podataka (dokumenata)\n",
        "2. Kreiranje vektorske baze i retrivera  \n",
        "3. Učitavanje LLM modela\n",
        "4. Definisanje pipeline-a\n",
        "\n",
        "\n",
        "**Napomene:**\n",
        "\n",
        "\n",
        "*   Koristite dokumentaciju:\n",
        "  * [HuggingFace Transformers](https://huggingface.co/docs/transformers/en/index)\n",
        "  * [HuggingFace Hub](https://huggingface.co/docs/hub/index)\n",
        "  * [LangChain](https://python.langchain.com/docs/get_started/introduction)\n",
        "*   Možete koristiti ChatGPT i Copilot (ex. Bing Chat) 🤖"
      ],
      "metadata": {
        "id": "oJPVoFSiFI7U"
      }
    },
    {
      "cell_type": "markdown",
      "source": [
        "#### Instalacija potrebnih paketa"
      ],
      "metadata": {
        "id": "uiSPDftDJMWV"
      }
    },
    {
      "cell_type": "code",
      "execution_count": null,
      "metadata": {
        "colab": {
          "base_uri": "https://localhost:8080/"
        },
        "id": "7T5L906l8sSH",
        "outputId": "0d1f97a3-4d21-470a-e761-72776ec126ff"
      },
      "outputs": [
        {
          "output_type": "stream",
          "name": "stdout",
          "text": [
            "\u001b[2K     \u001b[90m━━━━━━━━━━━━━━━━━━━━━━━━━━━━━━━━━━━━━━━━\u001b[0m \u001b[32m280.0/280.0 kB\u001b[0m \u001b[31m6.6 MB/s\u001b[0m eta \u001b[36m0:00:00\u001b[0m\n",
            "\u001b[2K     \u001b[90m━━━━━━━━━━━━━━━━━━━━━━━━━━━━━━━━━━━━━━━━\u001b[0m \u001b[32m105.0/105.0 MB\u001b[0m \u001b[31m9.8 MB/s\u001b[0m eta \u001b[36m0:00:00\u001b[0m\n",
            "\u001b[2K     \u001b[90m━━━━━━━━━━━━━━━━━━━━━━━━━━━━━━━━━━━━━━━━\u001b[0m \u001b[32m149.5/149.5 kB\u001b[0m \u001b[31m18.7 MB/s\u001b[0m eta \u001b[36m0:00:00\u001b[0m\n",
            "\u001b[2K     \u001b[90m━━━━━━━━━━━━━━━━━━━━━━━━━━━━━━━━━━━━━━━━\u001b[0m \u001b[32m85.5/85.5 MB\u001b[0m \u001b[31m7.7 MB/s\u001b[0m eta \u001b[36m0:00:00\u001b[0m\n",
            "\u001b[2K     \u001b[90m━━━━━━━━━━━━━━━━━━━━━━━━━━━━━━━━━━━━━━━━\u001b[0m \u001b[32m817.0/817.0 kB\u001b[0m \u001b[31m10.2 MB/s\u001b[0m eta \u001b[36m0:00:00\u001b[0m\n",
            "\u001b[2K     \u001b[90m━━━━━━━━━━━━━━━━━━━━━━━━━━━━━━━━━━━━━━━━\u001b[0m \u001b[32m1.7/1.7 MB\u001b[0m \u001b[31m19.8 MB/s\u001b[0m eta \u001b[36m0:00:00\u001b[0m\n",
            "\u001b[2K     \u001b[90m━━━━━━━━━━━━━━━━━━━━━━━━━━━━━━━━━━━━━━━━\u001b[0m \u001b[32m246.4/246.4 kB\u001b[0m \u001b[31m16.9 MB/s\u001b[0m eta \u001b[36m0:00:00\u001b[0m\n",
            "\u001b[2K     \u001b[90m━━━━━━━━━━━━━━━━━━━━━━━━━━━━━━━━━━━━━━━━\u001b[0m \u001b[32m61.0/61.0 kB\u001b[0m \u001b[31m7.1 MB/s\u001b[0m eta \u001b[36m0:00:00\u001b[0m\n",
            "\u001b[2K     \u001b[90m━━━━━━━━━━━━━━━━━━━━━━━━━━━━━━━━━━━━━━━━\u001b[0m \u001b[32m49.4/49.4 kB\u001b[0m \u001b[31m6.4 MB/s\u001b[0m eta \u001b[36m0:00:00\u001b[0m\n",
            "\u001b[?25h"
          ]
        }
      ],
      "source": [
        "!pip install -q torch transformers accelerate bitsandbytes sentence-transformers faiss-gpu\n",
        "!pip install -q langchain"
      ]
    },
    {
      "cell_type": "markdown",
      "source": [
        "#### Učitavanje i priprema podataka\n",
        "\n",
        "Koristite *LangChain* za učitavanje dokumenata ili nekog drugog tekstualnog sadržaja nad kojim želite izvršavati upite - [link](https://python.langchain.com/docs/integrations/document_loaders/).\n",
        "\n",
        "Kada odaberete podatke koje ćete koristiti, potrebno je da ih pripremite na odgovarajući način za dalju obradu i čuvanje u vektorskoj bazi."
      ],
      "metadata": {
        "id": "oyc37Kd3JVyR"
      }
    },
    {
      "cell_type": "code",
      "source": [
        "# TODO"
      ],
      "metadata": {
        "id": "5QbOwOLLKAv4"
      },
      "execution_count": null,
      "outputs": []
    },
    {
      "cell_type": "markdown",
      "source": [
        "#### Kreiranje vektorske baze i *retriever*-a\n",
        "\n",
        "Izaberite vekrorsku bazu koju ćete koristiti za čuvanje vektora (*embedding*-a) dokumenata, pregled podržanih baza možete pronaći na ovom [linku](https://python.langchain.com/docs/integrations/vectorstores/).\n",
        "\n",
        "Vektore trebate kreirati koristeći otvorene embedding modele, potražite neki manji embedding model na HuggingFace Hub-u, referišite se na [Massive Text Embedding Benchmark (MTEB) Leaderboard](https://huggingface.co/spaces/mteb/leaderboard)."
      ],
      "metadata": {
        "id": "T6Bw_uXgJaWe"
      }
    },
    {
      "cell_type": "code",
      "source": [
        "# TODO"
      ],
      "metadata": {
        "id": "ef_fzT3PicM-"
      },
      "execution_count": null,
      "outputs": []
    },
    {
      "cell_type": "markdown",
      "source": [
        "#### Učitavanje LLM-a\n",
        "\n",
        "Potražite neki manji LLM model na HuggingFace Hub-u, referišite se na [Open LLM Leaderboard](https://huggingface.co/spaces/HuggingFaceH4/open_llm_leaderboard). Cilj je da iskoristite model koji je optimizovan za brže izvršavanje.\n",
        "\n",
        "Prilikom instanciranja modela, možete koristiti konfiguracije koje optimizuju njegovo izvršavanje kao što je kvantizacija (quantization).\n"
      ],
      "metadata": {
        "id": "3pu8rAYIJfgO"
      }
    },
    {
      "cell_type": "code",
      "source": [
        "# TODO"
      ],
      "metadata": {
        "id": "x2EADsmwKDrI"
      },
      "execution_count": null,
      "outputs": []
    },
    {
      "cell_type": "markdown",
      "source": [
        "####  Definisanje pipeline-a\n",
        "\n",
        "Koristite HuggingFace *transformers* biblioteku za konstruisanje lanca ili pipeline-a za generisanje teksta, ovaj korak uključuje postavljanje parametara kao što su prethodno definisani LLM model, tokenizator, temperatura i drugi.\n",
        "\n",
        "Potrebno je da definišete šablon za unos koristeći *PromptTemplate*, na ovaj način modelu dajete potrebne informacije o kontekstu i pitanju koje se postavlja.\n",
        "\n",
        "Na kraju je potrebno da povežete sve komponente lanca."
      ],
      "metadata": {
        "id": "bHrLhMMCJmvf"
      }
    },
    {
      "cell_type": "code",
      "source": [
        "# TODO"
      ],
      "metadata": {
        "id": "NWvi3rhOKE0_"
      },
      "execution_count": null,
      "outputs": []
    },
    {
      "cell_type": "markdown",
      "source": [
        "#### Testiranje"
      ],
      "metadata": {
        "id": "iY1gwllo2crZ"
      }
    },
    {
      "cell_type": "code",
      "source": [
        "# TODO: testirati neke upite"
      ],
      "metadata": {
        "id": "0lMrGmey2d3o"
      },
      "execution_count": null,
      "outputs": []
    }
  ]
}