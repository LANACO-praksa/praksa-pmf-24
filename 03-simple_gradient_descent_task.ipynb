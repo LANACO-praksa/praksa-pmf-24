{
 "cells": [
  {
   "attachments": {},
   "cell_type": "markdown",
   "metadata": {},
   "source": [
    "**Zadatak**\n",
    "\n",
    "Napiši funkciju koja nalazi minimum funkcije sa dvije varijable koristeći gradijentni spust. Uz pomoć nje aproksimiraj minimum funkcije:<br>  $f(x,y)=x^2(y^2+1)-4x$."
   ]
  }
 ],
 "metadata": {
  "kernelspec": {
   "display_name": "nn_test",
   "language": "python",
   "name": "python3"
  },
  "language_info": {
   "codemirror_mode": {
    "name": "ipython",
    "version": 3
   },
   "file_extension": ".py",
   "mimetype": "text/x-python",
   "name": "python",
   "nbconvert_exporter": "python",
   "pygments_lexer": "ipython3",
   "version": "3.8.3"
  },
  "orig_nbformat": 4,
  "vscode": {
   "interpreter": {
    "hash": "26bef86906949c8a21c0295b45a023eccc32d68f686b6f20cd5b8d412da7414a"
   }
  }
 },
 "nbformat": 4,
 "nbformat_minor": 2
}
