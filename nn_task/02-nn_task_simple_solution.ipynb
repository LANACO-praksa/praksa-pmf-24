{
 "cells": [
  {
   "cell_type": "code",
   "execution_count": 39,
   "metadata": {},
   "outputs": [],
   "source": [
    "import numpy as np\n",
    "import random\n",
    "\n",
    "from tensorflow.keras.datasets import mnist\n",
    "from tensorflow.keras.utils import to_categorical\n",
    "from sklearn.metrics import classification_report, accuracy_score\n",
    "import matplotlib.pyplot as plt"
   ]
  },
  {
   "cell_type": "code",
   "execution_count": 40,
   "metadata": {},
   "outputs": [],
   "source": [
    "class FCLayer:\n",
    "    def __init__(self, input_size, output_size, activation, activation_prime):\n",
    "        \"\"\"\n",
    "        Inicijalizacija sloja\n",
    "\n",
    "        Args:\n",
    "            input_size (int): broj ulaznih neurona\n",
    "            output_size (int): broj izlaznih neurona\n",
    "            activation (function): aktivaciona funkcija\n",
    "            activation_prime (function): derivacija funkcije aktivacije\n",
    "        \"\"\"\n",
    "        self.input = None\n",
    "        self.output = None\n",
    "        self.input_size = input_size\n",
    "        self.output_size = output_size\n",
    "\n",
    "        self.weights = np.random.rand(output_size, input_size) - 0.5\n",
    "        self.bias = np.random.rand(output_size, 1) - 0.5\n",
    "        \n",
    "        self.activation = activation\n",
    "        self.activation_prime = activation_prime\n",
    "\n",
    "    def forward_propagation(self, input_data):\n",
    "        \"\"\"\n",
    "        Propagacija ulaznih vrijednosti kroz sloj\n",
    "\n",
    "        Args:\n",
    "            input_data (numpy.array): ulazni podaci\n",
    "\n",
    "        Returns:\n",
    "            numpy.array: izlaz sloja\n",
    "        \"\"\"\n",
    "        self.input = input_data\n",
    "\n",
    "        # provjera dimenzija\n",
    "        assert self.weights.shape[1] == input_data.shape[0], \"dimenzije ulaza i tezina se ne poklapaju\"\n",
    "        self.zl = np.dot(self.weights, self.input) + self.bias\n",
    "        self.output = self.activation(self.zl)\n",
    "\n",
    "        return self.output\n",
    "\n",
    "    def backward_propagation(self, output_error, learning_rate):\n",
    "        \"\"\"\n",
    "        Propagacija greske unazad kroz sloj\n",
    "\n",
    "        Args:\n",
    "            output_error (numpy.array): greska izlaza\n",
    "            learning_rate (float): stopa ucenja\n",
    "        \n",
    "        Returns:\n",
    "            numpy.array: greska ulaza\n",
    "        \"\"\"\n",
    "        deltal = self.activation_prime(self.zl) * output_error\n",
    "        weights_error = np.dot(deltal, self.input.T)\n",
    "\n",
    "        # azuriranje tezina i biasa\n",
    "        self.weights -= learning_rate * weights_error\n",
    "        self.bias -= learning_rate * deltal \n",
    "\n",
    "        # provjera dimenzija\n",
    "        assert self.weights.shape == (self.output_size, self.input_size), \"dimenzije tezina nakon azuriranja nisu ispravne\"\n",
    "        assert self.bias.shape == (self.output_size, 1), \"dimenzije biasa nakon azuriranja nisu ispravne\"\n",
    "        \n",
    "        # propagacija greske unazad\n",
    "        input_error = np.dot(self.weights.T, output_error)\n",
    "        \n",
    "        return input_error"
   ]
  },
  {
   "cell_type": "code",
   "execution_count": 41,
   "metadata": {},
   "outputs": [],
   "source": [
    "def tanh(x):\n",
    "    \"\"\"\n",
    "    Hiperbolicki tanges kao aktivaciona fn\n",
    "\n",
    "    Args:\n",
    "        x (numpy.ndarray): ulazni podaci.\n",
    "\n",
    "    Returns:\n",
    "        numpy.ndarray: izlaz aktivacione fn\n",
    "    \"\"\"\n",
    "    return np.tanh(x)\n",
    "\n",
    "def tanh_prime(x):\n",
    "    # derivacija hiperbolickog tangesa\n",
    "    return 1-np.tanh(x)**2\n",
    "\n",
    "def sigmoid(x):\n",
    "    \"\"\"\n",
    "    Sigmoidna fn kao aktivaciona fn\n",
    "\n",
    "    Args:\n",
    "        x (numpy.ndarray): ulazni podaci.\n",
    "\n",
    "    Returns:\n",
    "        numpy.ndarray: izlaz aktivacione fn\n",
    "    \"\"\"\n",
    "    return 1.0/(1.0+np.exp(-x))\n",
    "\n",
    "def sigmoid_prime(x):\n",
    "    # derivacija sigmoidne fn\n",
    "    return sigmoid(x)*(1-sigmoid(x))"
   ]
  },
  {
   "cell_type": "code",
   "execution_count": 42,
   "metadata": {},
   "outputs": [],
   "source": [
    "def mse(y_true, y_pred):\n",
    "    \"\"\"\n",
    "    Srednja kvadratna greska - mse\n",
    "\n",
    "    Args:\n",
    "        y_true (numpy.ndarray): stvarne vrijednosti\n",
    "        y_pred (numpy.ndarray): predvidjene vrijednosti\n",
    "    \n",
    "    Returns:\n",
    "        float: mse\n",
    "    \"\"\"\n",
    "    return np.mean(np.power(y_true-y_pred, 2))/2\n",
    "\n",
    "def mse_prime(y_true, y_pred):\n",
    "    \"\"\"\n",
    "    Derivacija mse\n",
    "\n",
    "    Args:\n",
    "        y_true (numpy.ndarray): stvarne vrijednosti\n",
    "        y_pred (numpy.ndarray): predvidjene vrijednosti\n",
    "\n",
    "    Returns:\n",
    "        numpy.ndarray: derivacija mse\n",
    "    \"\"\"\n",
    "    return (y_pred-y_true)/y_true.size"
   ]
  },
  {
   "cell_type": "code",
   "execution_count": 43,
   "metadata": {},
   "outputs": [],
   "source": [
    "class Network:\n",
    "    def __init__(self):\n",
    "        \"\"\"\n",
    "        Klasa koja predstavlja neuronsku mrezu\n",
    "        \"\"\"\n",
    "        self.layers = []\n",
    "        self.loss = None\n",
    "        self.loss_prime = None\n",
    "\n",
    "    def add(self, layer):\n",
    "        \"\"\"\n",
    "        Dodavanje sloja u neuronsku mrezu\n",
    "\n",
    "        Args:\n",
    "            layer (FCLayer): sloj koji se dodaje\n",
    "        \"\"\"\n",
    "        self.layers.append(layer)\n",
    "\n",
    "    def use(self, loss, loss_prime):\n",
    "        \"\"\"\n",
    "        Postavljanje funkcije greske\n",
    "\n",
    "        Args:\n",
    "            loss (function): funkcija greske\n",
    "            loss_prime (function): derivacija funkcije greske\n",
    "        \"\"\"\n",
    "        self.loss = loss\n",
    "        self.loss_prime = loss_prime\n",
    "\n",
    "    def predict(self, input_data):\n",
    "        \"\"\"\n",
    "        Predvidjanje izlaza iz neuronske mreze\n",
    "\n",
    "        Args:\n",
    "            input_data (numpy.array): ulazni podaci\n",
    "\n",
    "        Returns:\n",
    "            numpy.array: predvidjeni izlazi za ulazne podatke\n",
    "        \"\"\"\n",
    "        samples = len(input_data)\n",
    "        result = []\n",
    "\n",
    "        # prolaz kroz sve primjere\n",
    "        for i in range(samples):\n",
    "            output = input_data[i]\n",
    "\n",
    "            # forward propagacija kroz sve slojeve mreze\n",
    "            for layer in self.layers:\n",
    "                output = layer.forward_propagation(output)\n",
    "\n",
    "            result.append(output) # dodavanje rezultujuceg izlaza\n",
    "\n",
    "        return result\n",
    "\n",
    "    def fit_stochastic_gradient_descent(self, x_train, y_train, epochs, learning_rate, print_interval=100):\n",
    "        \"\"\"\n",
    "        Treniranje neuronske mreze koristeci sgd\n",
    "\n",
    "        Args:\n",
    "            x_train (numpy.array): ulazni podaci za treniranje\n",
    "            y_train (numpy.array): ocekivani izlazi za ulazne podatke\n",
    "            epochs (int): broj epoha\n",
    "            learning_rate (float): stopa ucenja\n",
    "            print_interval (int): interval za ispis\n",
    "        \"\"\"\n",
    "        samples = len(x_train)\n",
    "\n",
    "        for i in range(epochs):\n",
    "            err = 0\n",
    "\n",
    "            # slucajan odabir primjera\n",
    "            j = random.choice(range(samples))\n",
    "\n",
    "            # forward propagacija\n",
    "            output = x_train[j]\n",
    "            for layer in self.layers:\n",
    "                output = layer.forward_propagation(output)\n",
    "\n",
    "            # backward propagacija\n",
    "            error = self.loss_prime(y_train[j], output)\n",
    "            for layer in reversed(self.layers):\n",
    "                error = layer.backward_propagation(error, learning_rate)\n",
    "\n",
    "            if (i+1) % print_interval == 0:\n",
    "                y_predicted = self.predict(x_train)\n",
    "                \n",
    "                # racunanje greske i tacnosti\n",
    "                err = self.loss(y_train, y_predicted)\n",
    "                accuracy = accuracy_score(np.reshape(y_train, (-1,10)), to_categorical(np.argmax(np.reshape(np.array(y_predicted), (-1,10)), axis=1), num_classes=10))\n",
    "\n",
    "                print(f'epoch: {i+1}/{epochs} loss: {round(err, 4)} accuracy: {round(accuracy, 4)}')"
   ]
  },
  {
   "cell_type": "code",
   "execution_count": 44,
   "metadata": {},
   "outputs": [],
   "source": [
    "# ucitavanje MNIST skupa\n",
    "(x_train, y_train), (x_test, y_test) = mnist.load_data() # train = 60k, test = 10k primjera\n",
    "\n",
    "# priprema podataka\n",
    "# priprema trening skup podataka\n",
    "# reshape + normalization\n",
    "x_train = x_train.reshape(x_train.shape[0], 28*28, 1)\n",
    "x_train = x_train.astype('float32')\n",
    "x_train /= 255\n",
    "\n",
    "# one-hot encoding\n",
    "# kodiranje rezultata (brojeve iz opsega [0,9]) u vektor velicine 10\n",
    "# npr. broj 3 se predstavlja kao vektro [0, 0, 0, 1, 0, 0, 0, 0, 0, 0]\n",
    "y_train = to_categorical(y_train)\n",
    "y_train = y_train.reshape(y_train.shape[0], 10, 1)\n",
    "\n",
    "# priprema test skupa\n",
    "x_test = x_test.reshape(x_test.shape[0], 28*28, 1)\n",
    "x_test = x_test.astype('float32')\n",
    "x_test /= 255\n",
    "y_test = to_categorical(y_test)"
   ]
  },
  {
   "cell_type": "code",
   "execution_count": null,
   "metadata": {},
   "outputs": [],
   "source": [
    "def plot_predictions(x_data, predictions, num_samples=8):\n",
    "    \"\"\"\n",
    "    Prikaz vise slika sa predikcijama\n",
    "         \n",
    "    Args:\n",
    "        x_data (numpy.array): podaci\n",
    "        predictions (numpy.array): predikcije\n",
    "        num_samples (int): broj slika za prikazivanje\n",
    "    \"\"\"\n",
    "\n",
    "    # generisanje indeksa \n",
    "    indices = np.random.randint(0, len(x_data), size=num_samples)\n",
    "    \n",
    "    # kreiranje plot-a\n",
    "    fig, axes = plt.subplots(1, num_samples, figsize=(15, 3))\n",
    "    \n",
    "    for i, id in enumerate(indices):\n",
    "        image = x_data[id].reshape(28, 28) # reshape u 2D\n",
    "        prediction = np.argmax(predictions[id]) # pronalazenje indeksa najveceg elementa\n",
    "        \n",
    "        axes[i].imshow(image, cmap='gray')\n",
    "        axes[i].axis('off')\n",
    "        axes[i].set_title(f\"predikcija: {prediction}\")\n",
    "    \n",
    "    plt.show()"
   ]
  },
  {
   "cell_type": "code",
   "execution_count": 45,
   "metadata": {},
   "outputs": [],
   "source": [
    "# NN iz prvog primjera\n",
    "net = Network()\n",
    "\n",
    "net.add(FCLayer(28*28, 15, sigmoid, sigmoid_prime))\n",
    "\n",
    "net.add(FCLayer(15, 10, sigmoid, sigmoid_prime))"
   ]
  },
  {
   "cell_type": "code",
   "execution_count": 46,
   "metadata": {},
   "outputs": [
    {
     "name": "stdout",
     "output_type": "stream",
     "text": [
      "epoch: 1000/10000 loss: 0.0713 accuracy: 0.0828\n",
      "epoch: 2000/10000 loss: 0.0574 accuracy: 0.0873\n",
      "epoch: 3000/10000 loss: 0.0515 accuracy: 0.0927\n",
      "epoch: 4000/10000 loss: 0.0486 accuracy: 0.1048\n",
      "epoch: 5000/10000 loss: 0.0471 accuracy: 0.115\n",
      "epoch: 6000/10000 loss: 0.0462 accuracy: 0.1274\n",
      "epoch: 7000/10000 loss: 0.0456 accuracy: 0.1421\n",
      "epoch: 8000/10000 loss: 0.0451 accuracy: 0.162\n",
      "epoch: 9000/10000 loss: 0.0448 accuracy: 0.1859\n",
      "epoch: 10000/10000 loss: 0.0445 accuracy: 0.2081\n"
     ]
    }
   ],
   "source": [
    "net.use(mse, mse_prime)\n",
    "net.fit_stochastic_gradient_descent(x_train, y_train, epochs=10000, learning_rate=0.01, print_interval=1000) # eksperimentisati sa parametrima"
   ]
  },
  {
   "cell_type": "code",
   "execution_count": null,
   "metadata": {},
   "outputs": [],
   "source": [
    "predictions = net.predict(x_test)"
   ]
  },
  {
   "cell_type": "code",
   "execution_count": 48,
   "metadata": {},
   "outputs": [
    {
     "name": "stdout",
     "output_type": "stream",
     "text": [
      "              precision    recall  f1-score   support\n",
      "\n",
      "           0       0.11      0.08      0.09       980\n",
      "           1       0.47      0.54      0.50      1135\n",
      "           2       0.26      0.10      0.15      1032\n",
      "           3       0.21      0.30      0.25      1010\n",
      "           4       0.16      0.44      0.23       982\n",
      "           5       0.30      0.33      0.32       892\n",
      "           6       0.16      0.05      0.08       958\n",
      "           7       0.21      0.01      0.03      1028\n",
      "           8       0.03      0.02      0.02       974\n",
      "           9       0.12      0.17      0.14      1009\n",
      "\n",
      "   micro avg       0.21      0.21      0.21     10000\n",
      "   macro avg       0.20      0.20      0.18     10000\n",
      "weighted avg       0.21      0.21      0.18     10000\n",
      " samples avg       0.21      0.21      0.21     10000\n",
      "\n"
     ]
    }
   ],
   "source": [
    "print(classification_report(y_test, to_categorical(np.argmax(np.reshape(np.array(predictions), (-1,10)), axis=1))))"
   ]
  },
  {
   "cell_type": "code",
   "execution_count": 50,
   "metadata": {},
   "outputs": [
    {
     "data": {
      "image/png": "[encoded data removed]",
      "text/plain": [
       "<Figure size 1500x300 with 6 Axes>"
      ]
     },
     "metadata": {},
     "output_type": "display_data"
    }
   ],
   "source": [
    "plot_predictions(x_test, predictions, 6)"
   ]
  },
  {
   "cell_type": "code",
   "execution_count": 51,
   "metadata": {},
   "outputs": [],
   "source": [
    "# malo kompleksnija mreza\n",
    "net = Network()\n",
    "\n",
    "net.add(FCLayer(28*28, 256, sigmoid, sigmoid_prime))\n",
    "\n",
    "net.add(FCLayer(256, 64, sigmoid, sigmoid_prime))\n",
    "\n",
    "net.add(FCLayer(64, 32, sigmoid, sigmoid_prime))\n",
    "\n",
    "net.add(FCLayer(32, 10, sigmoid, sigmoid_prime))"
   ]
  },
  {
   "cell_type": "code",
   "execution_count": 56,
   "metadata": {},
   "outputs": [
    {
     "name": "stdout",
     "output_type": "stream",
     "text": [
      "epoch: 1000/10000 loss: 0.0438 accuracy: 0.3428\n",
      "epoch: 2000/10000 loss: 0.0432 accuracy: 0.4321\n",
      "epoch: 3000/10000 loss: 0.0425 accuracy: 0.4464\n",
      "epoch: 4000/10000 loss: 0.0419 accuracy: 0.4671\n",
      "epoch: 5000/10000 loss: 0.0414 accuracy: 0.5177\n",
      "epoch: 6000/10000 loss: 0.0408 accuracy: 0.5443\n",
      "epoch: 7000/10000 loss: 0.0402 accuracy: 0.5437\n",
      "epoch: 8000/10000 loss: 0.0399 accuracy: 0.5798\n",
      "epoch: 9000/10000 loss: 0.0393 accuracy: 0.5907\n",
      "epoch: 10000/10000 loss: 0.0389 accuracy: 0.5969\n"
     ]
    }
   ],
   "source": [
    "net.use(mse, mse_prime)\n",
    "net.fit_stochastic_gradient_descent(x_train, y_train, epochs=10000, learning_rate=0.01, print_interval=1000)"
   ]
  },
  {
   "cell_type": "code",
   "execution_count": 57,
   "metadata": {},
   "outputs": [],
   "source": [
    "predictions = net.predict(x_test)"
   ]
  },
  {
   "cell_type": "code",
   "execution_count": 58,
   "metadata": {},
   "outputs": [
    {
     "name": "stdout",
     "output_type": "stream",
     "text": [
      "              precision    recall  f1-score   support\n",
      "\n",
      "           0       0.62      0.92      0.74       980\n",
      "           1       0.54      0.99      0.70      1135\n",
      "           2       0.85      0.69      0.76      1032\n",
      "           3       0.55      0.71      0.62      1010\n",
      "           4       0.89      0.39      0.54       982\n",
      "           5       0.00      0.00      0.00       892\n",
      "           6       0.67      0.93      0.78       958\n",
      "           7       0.50      0.93      0.65      1028\n",
      "           8       1.00      0.02      0.04       974\n",
      "           9       0.55      0.33      0.41      1009\n",
      "\n",
      "   micro avg       0.60      0.60      0.60     10000\n",
      "   macro avg       0.62      0.59      0.52     10000\n",
      "weighted avg       0.62      0.60      0.53     10000\n",
      " samples avg       0.60      0.60      0.60     10000\n",
      "\n"
     ]
    },
    {
     "name": "stderr",
     "output_type": "stream",
     "text": [
      "/home/vladimir/GoogleDrive/lanaco/lanaco_praksa/.venv/lib/python3.10/site-packages/sklearn/metrics/_classification.py:1509: UndefinedMetricWarning: Precision is ill-defined and being set to 0.0 in labels with no predicted samples. Use `zero_division` parameter to control this behavior.\n",
      "  _warn_prf(average, modifier, f\"{metric.capitalize()} is\", len(result))\n"
     ]
    }
   ],
   "source": [
    "print(classification_report(y_test, to_categorical(np.argmax(np.reshape(np.array(predictions), (-1,10)), axis=1), num_classes=10)))"
   ]
  },
  {
   "cell_type": "code",
   "execution_count": 59,
   "metadata": {},
   "outputs": [
    {
     "data": {
      "image/png": "[encoded data removed]",
      "text/plain": [
       "<Figure size 1500x300 with 6 Axes>"
      ]
     },
     "metadata": {},
     "output_type": "display_data"
    }
   ],
   "source": [
    "plot_predictions(x_test, predictions, 6)"
   ]
  }
 ],
 "metadata": {
  "kernelspec": {
   "display_name": "ai_python",
   "language": "python",
   "name": "python3"
  },
  "language_info": {
   "codemirror_mode": {
    "name": "ipython",
    "version": 3
   },
   "file_extension": ".py",
   "mimetype": "text/x-python",
   "name": "python",
   "nbconvert_exporter": "python",
   "pygments_lexer": "ipython3",
   "version": "3.10.12"
  },
  "vscode": {
   "interpreter": {
    "hash": "53e26e92eb047fac0a8b0208801dfe952f4f8952e82e087046918172140b19c2"
   }
  }
 },
 "nbformat": 4,
 "nbformat_minor": 2
}
