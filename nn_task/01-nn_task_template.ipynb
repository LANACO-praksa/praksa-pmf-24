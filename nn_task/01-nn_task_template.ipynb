{
 "cells": [
  {
   "cell_type": "markdown",
   "metadata": {},
   "source": [
    "# Implementacija Neuronske Mreže"
   ]
  },
  {
   "attachments": {},
   "cell_type": "markdown",
   "metadata": {},
   "source": [
    "* Implementiraj neuronsku mrežu. \n",
    "* Mreža mora imati mehanizam za dodavanje slojeva. \n",
    "* Sloj mora imati aktivacijsku funkciju.\n",
    "* Mrežu je neophodno trenirati koristeći gradijentni spust, koristeći odgovarajuću loss (cost) funkciju.\n",
    "* Neuronska mreža mora imati metod `predict`."
   ]
  },
  {
   "cell_type": "code",
   "execution_count": null,
   "metadata": {},
   "outputs": [],
   "source": [
    "import numpy as np\n",
    "import random"
   ]
  },
  {
   "cell_type": "code",
   "execution_count": null,
   "metadata": {},
   "outputs": [],
   "source": [
    "class FCLayer:\n",
    "    def __init__(self, input_size, output_size, activation, activation_prime):\n",
    "        self.input = None\n",
    "        self.output = None\n",
    "\n",
    "    def forward_propagation(self):\n",
    "        pass\n",
    "\n",
    "    def backward_propagation(self):\n",
    "        pass"
   ]
  },
  {
   "cell_type": "code",
   "execution_count": null,
   "metadata": {},
   "outputs": [],
   "source": [
    "def tanh(x):\n",
    "    return np.tanh(x)\n",
    "\n",
    "def tanh_prime(x):\n",
    "    return 1-np.tanh(x)**2\n",
    "\n",
    "def sigmoid(x):\n",
    "    return 1.0/(1.0+np.exp(-x))\n",
    "\n",
    "def sigmoid_prime(x):\n",
    "    return sigmoid(x)*(1-sigmoid(x))"
   ]
  },
  {
   "cell_type": "code",
   "execution_count": null,
   "metadata": {},
   "outputs": [],
   "source": [
    "def mse(y_true, y_pred):\n",
    "    return np.mean(np.power(y_true-y_pred, 2))/2\n",
    "\n",
    "def mse_prime(y_true, y_pred):\n",
    "    return (y_pred-y_true)/y_true.size"
   ]
  },
  {
   "cell_type": "code",
   "execution_count": null,
   "metadata": {},
   "outputs": [],
   "source": [
    "class Network:\n",
    "    pass"
   ]
  },
  {
   "cell_type": "code",
   "execution_count": null,
   "metadata": {},
   "outputs": [],
   "source": [
    "from tensorflow.keras.datasets import mnist\n",
    "from tensorflow.keras.utils import to_categorical\n",
    "from sklearn.metrics import classification_report\n",
    "\n",
    "# ucitavanje MNIST skupa\n",
    "(x_train, y_train), (x_test, y_test) = mnist.load_data() # train = 60k, test = 10k primjera\n",
    "\n",
    "# pripremiti trening skup podataka\n",
    "# reshape + normalization\n",
    "pass\n",
    "\n",
    "# one-hot encoding\n",
    "# kodirati rezultate (brojeve iz opsega [0,9]) u vektor velicine 10\n",
    "# npr. broj 3 se predstavlja kao vektro [0, 0, 0, 1, 0, 0, 0, 0, 0, 0]\n",
    "pass\n",
    "\n",
    "# pripremiti test skup - isto kao i za trening\n",
    "pass"
   ]
  },
  {
   "cell_type": "markdown",
   "metadata": {},
   "source": [
    "Instanciraj neuronsku mrežu, sa sigmoidnom funkciojom kao aktivacionom funkcijom."
   ]
  },
  {
   "attachments": {},
   "cell_type": "markdown",
   "metadata": {},
   "source": [
    "Za loss funkciju koristi MSE, istreniraj mrežu sa learning_rate = 0.1 i 600000 epoha, kreiraj predikcije i ispiši classification report..."
   ]
  },
  {
   "cell_type": "code",
   "execution_count": null,
   "metadata": {},
   "outputs": [],
   "source": [
    "# NN iz prvog primjera\n",
    "net = Network()\n",
    "\n",
    "net.add(FCLayer(28*28, 15, sigmoid, sigmoid_prime))\n",
    "\n",
    "net.add(FCLayer(15, 10, sigmoid, sigmoid_prime))"
   ]
  },
  {
   "cell_type": "code",
   "execution_count": null,
   "metadata": {},
   "outputs": [],
   "source": [
    "net.use(mse, mse_prime)\n",
    "net.fit_gradient_descent(x_train, y_train, epochs=600000, learning_rate=0.1)"
   ]
  },
  {
   "cell_type": "code",
   "execution_count": null,
   "metadata": {},
   "outputs": [],
   "source": [
    "out = net.predict(x_test)"
   ]
  },
  {
   "cell_type": "code",
   "execution_count": null,
   "metadata": {},
   "outputs": [],
   "source": [
    "print(classification_report(y_test, to_categorical(np.argmax(np.reshape(np.array(out), (-1,10)), axis=1))))"
   ]
  },
  {
   "cell_type": "markdown",
   "metadata": {},
   "source": [
    "Kreiraj mrežu komplikovanije strukture (više slojeva), istreniraj sa istim parametrima kao u prethodnom slučaju i uporedi rezultate."
   ]
  },
  {
   "cell_type": "code",
   "execution_count": null,
   "metadata": {},
   "outputs": [],
   "source": [
    "# malo kompleksnija mreza\n",
    "net = Network()\n",
    "\n",
    "net.add(FCLayer(28*28, 256, sigmoid, sigmoid_prime))\n",
    "\n",
    "net.add(FCLayer(256, 64, sigmoid, sigmoid_prime))\n",
    "\n",
    "net.add(FCLayer(64, 32, sigmoid, sigmoid_prime))\n",
    "\n",
    "net.add(FCLayer(32, 10, sigmoid, sigmoid_prime))"
   ]
  },
  {
   "cell_type": "code",
   "execution_count": null,
   "metadata": {},
   "outputs": [],
   "source": [
    "net.use(mse, mse_prime)\n",
    "net.fit_gradient_descent(x_train, y_train, epochs=600000, learning_rate=0.1)"
   ]
  },
  {
   "cell_type": "code",
   "execution_count": null,
   "metadata": {},
   "outputs": [],
   "source": [
    "out = net.predict(x_test)"
   ]
  },
  {
   "cell_type": "code",
   "execution_count": null,
   "metadata": {},
   "outputs": [],
   "source": [
    "print(classification_report(y_test, to_categorical(np.argmax(np.reshape(np.array(out), (-1,10)), axis=1))))"
   ]
  }
 ],
 "metadata": {
  "kernelspec": {
   "display_name": "ai_python",
   "language": "python",
   "name": "python3"
  },
  "language_info": {
   "name": "python",
   "version": "3.8.3"
  },
  "orig_nbformat": 4,
  "vscode": {
   "interpreter": {
    "hash": "53e26e92eb047fac0a8b0208801dfe952f4f8952e82e087046918172140b19c2"
   }
  }
 },
 "nbformat": 4,
 "nbformat_minor": 2
}
