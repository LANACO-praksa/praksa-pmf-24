{
 "cells": [
  {
   "cell_type": "markdown",
   "metadata": {},
   "source": [
    "# Inheritance"
   ]
  },
  {
   "cell_type": "markdown",
   "metadata": {},
   "source": [
    "You don’t always have to start from scratch when writing a class. If the class you’re writing is a specialized version of another class you wrote, you can use **inheritance**. When one class inherits from another, it automatically takes on all the attributes and methods of the first class.<br>\n",
    "The original class is called the **parent (or base) class**, and the new class is the **child (or derived) class**. <br>\n",
    "The child class inherits every attribute and method from its parent class but is also free to define new attributes and methods of its own."
   ]
  },
  {
   "cell_type": "markdown",
   "metadata": {},
   "source": [
    "So, inheritance is the process by which one class takes on the attributes and methods of another. Child classes can override or extend the attributes and methods of parent classes. "
   ]
  },
  {
   "cell_type": "markdown",
   "metadata": {},
   "source": [
    "To create a child class, you create new class with its own name and then put the name of the parent class in parentheses."
   ]
  },
  {
   "cell_type": "code",
   "execution_count": 1,
   "metadata": {},
   "outputs": [],
   "source": [
    "class Pet:\n",
    "    def __init__(self, species, name, age):\n",
    "        self.species = species\n",
    "        self.name = name\n",
    "        self.age = age\n",
    "    \n",
    "    def description(self):\n",
    "        print(f\"{self.name} is a {self.age} years old {self.species}\")\n",
    "\n",
    "    def speak(self, sound):\n",
    "        print(f\"{self.name} says {sound}\")"
   ]
  },
  {
   "cell_type": "code",
   "execution_count": 12,
   "metadata": {},
   "outputs": [
    {
     "name": "stdout",
     "output_type": "stream",
     "text": [
      "Berry is a 3 years old cat\n"
     ]
    }
   ],
   "source": [
    "my_pet = Pet('cat', 'Berry', 3)\n",
    "my_pet.description()"
   ]
  },
  {
   "cell_type": "code",
   "execution_count": 15,
   "metadata": {},
   "outputs": [
    {
     "data": {
      "text/plain": [
       "__main__.Pet"
      ]
     },
     "execution_count": 15,
     "metadata": {},
     "output_type": "execute_result"
    }
   ],
   "source": [
    "type(my_pet)"
   ]
  },
  {
   "cell_type": "markdown",
   "metadata": {},
   "source": [
    "Now, let's create classes for some pet species:"
   ]
  },
  {
   "cell_type": "code",
   "execution_count": 13,
   "metadata": {},
   "outputs": [],
   "source": [
    "class Cat(Pet):\n",
    "    pass\n",
    "\n",
    "class Dog(Pet):\n",
    "    pass\n",
    "\n",
    "class Parrot(Pet):\n",
    "    pass"
   ]
  },
  {
   "cell_type": "code",
   "execution_count": 14,
   "metadata": {},
   "outputs": [
    {
     "name": "stdout",
     "output_type": "stream",
     "text": [
      "Berry is a 3 years old cat\n",
      "Lilly says Woof\n"
     ]
    }
   ],
   "source": [
    "berry = Cat('cat', 'Berry', 3)\n",
    "berry.description()\n",
    "\n",
    "lilly = Dog('dog', 'Lilly', 5)\n",
    "lilly.speak('Woof')"
   ]
  },
  {
   "cell_type": "markdown",
   "metadata": {},
   "source": [
    "To determine which class a given object belongs to, you can use the built-in `type()`:"
   ]
  },
  {
   "cell_type": "code",
   "execution_count": 16,
   "metadata": {},
   "outputs": [
    {
     "data": {
      "text/plain": [
       "__main__.Cat"
      ]
     },
     "execution_count": 16,
     "metadata": {},
     "output_type": "execute_result"
    }
   ],
   "source": [
    "type(berry)"
   ]
  },
  {
   "cell_type": "code",
   "execution_count": 17,
   "metadata": {},
   "outputs": [
    {
     "data": {
      "text/plain": [
       "__main__.Dog"
      ]
     },
     "execution_count": 17,
     "metadata": {},
     "output_type": "execute_result"
    }
   ],
   "source": [
    "type(lilly)"
   ]
  },
  {
   "cell_type": "markdown",
   "metadata": {},
   "source": [
    "What if you want to determine if `berry` is also an instance of the `Pet` class? You can do this with the built-in `isinstance()`:"
   ]
  },
  {
   "cell_type": "code",
   "execution_count": 18,
   "metadata": {},
   "outputs": [
    {
     "data": {
      "text/plain": [
       "True"
      ]
     },
     "execution_count": 18,
     "metadata": {},
     "output_type": "execute_result"
    }
   ],
   "source": [
    "isinstance(berry, Pet)"
   ]
  },
  {
   "cell_type": "markdown",
   "metadata": {},
   "source": [
    "Notice that `isinstance()` takes two arguments, an object and a class. In the example above, `isinstance()` checks if `berry` is an instance of the `Pet` class and returns `True`.\n",
    "\n",
    "Both, `berry` and `lilly` objects are `Pet` instances, but `berry` is not a `Dog` instance, and `lilly` is not a `Cat` instance."
   ]
  },
  {
   "cell_type": "code",
   "execution_count": 19,
   "metadata": {},
   "outputs": [
    {
     "data": {
      "text/plain": [
       "False"
      ]
     },
     "execution_count": 19,
     "metadata": {},
     "output_type": "execute_result"
    }
   ],
   "source": [
    "isinstance(berry, Dog)"
   ]
  },
  {
   "cell_type": "markdown",
   "metadata": {},
   "source": [
    "More generally, all objects created from a child class are instances of the parent class, although they may not be instances of other child classes."
   ]
  },
  {
   "cell_type": "markdown",
   "metadata": {},
   "source": [
    "# The `__init__()` Method for a Child Class"
   ]
  },
  {
   "cell_type": "markdown",
   "metadata": {},
   "source": [
    "The first task Python has when creating an instance from a child class is to assign values to all attributes in the parent class. To do this, the `__init__()` method for a child class needs help from its parent class."
   ]
  },
  {
   "cell_type": "markdown",
   "metadata": {},
   "source": [
    "Let's create the `Parrot` class again. You can access the parent class from inside a method of a child class by using `super()`. "
   ]
  },
  {
   "cell_type": "code",
   "execution_count": 20,
   "metadata": {},
   "outputs": [],
   "source": [
    "class Parrot(Pet):\n",
    "    \n",
    "    def __init__(self, species, name, age):\n",
    "        super().__init__(species, name, age)"
   ]
  },
  {
   "cell_type": "markdown",
   "metadata": {},
   "source": [
    "When you call `super().__init__(species, name, age)` inside `Parrot`, Python searches the parent class, `Pet`, for a `.__init__()` method and calls it with the variables `species`, `name` and `age`."
   ]
  },
  {
   "cell_type": "code",
   "execution_count": 21,
   "metadata": {},
   "outputs": [
    {
     "name": "stdout",
     "output_type": "stream",
     "text": [
      "Kiki is a 2 years old parrot\n"
     ]
    }
   ],
   "source": [
    "kiki = Parrot('parrot', 'Kiki', 2)\n",
    "kiki.description()"
   ]
  },
  {
   "cell_type": "markdown",
   "metadata": {},
   "source": [
    "# Extend the Functionality of a Parent Class"
   ]
  },
  {
   "cell_type": "markdown",
   "metadata": {},
   "source": [
    "Once you have a child class that inherits from a parent class, you can add any new attributes and methods necessary to differentiate the child class from the parent class. Let’s add an attribute that’s specific to parrots (feather color, for example) and a method to report on this attribute. We’ll store the feather color and write a method that prints a description of feather:"
   ]
  },
  {
   "cell_type": "code",
   "execution_count": 2,
   "metadata": {},
   "outputs": [],
   "source": [
    "class Parrot(Pet):\n",
    "    \n",
    "    def __init__(self, species, name, age, feather):\n",
    "        super().__init__(species, name, age)\n",
    "        self.feather = feather\n",
    "\n",
    "    def feather_description(self):\n",
    "        print(f'{self.name} has {self.feather} feathers.')"
   ]
  },
  {
   "cell_type": "code",
   "execution_count": 24,
   "metadata": {},
   "outputs": [
    {
     "name": "stdout",
     "output_type": "stream",
     "text": [
      "Mimi has green feathers.\n"
     ]
    }
   ],
   "source": [
    "mimi = Parrot('parrot', 'Mimi', 3, 'green')\n",
    "mimi.feather_description()"
   ]
  },
  {
   "cell_type": "markdown",
   "metadata": {},
   "source": [
    "# Overriding Methods from the Parent Class"
   ]
  },
  {
   "cell_type": "markdown",
   "metadata": {},
   "source": [
    "You can override any method from the parent class that doesn’t fit what you’re trying to model with the child class. To do this, you define a method in the child class with the same name as the method you want to override in the parent class. Python will disregard the parent class method and only pay attention to the method you define in the child class."
   ]
  },
  {
   "cell_type": "markdown",
   "metadata": {},
   "source": [
    "Since parrot wiil repeat anything we say to him, we will modify `speak` method for `Parrot` class:"
   ]
  },
  {
   "cell_type": "code",
   "execution_count": 3,
   "metadata": {},
   "outputs": [],
   "source": [
    "class Parrot(Pet):\n",
    "    \n",
    "    def __init__(self, species, name, age, feather):\n",
    "        super().__init__(species, name, age)\n",
    "        self.feather = feather\n",
    "\n",
    "    def feather_description(self):\n",
    "        print(f'{self.name} has {self.feather} feathers.')\n",
    "\n",
    "    def speak(self):\n",
    "        say = input('I will repeat after you: ')\n",
    "        print(f'{self.name} says {say}')"
   ]
  },
  {
   "cell_type": "code",
   "execution_count": 4,
   "metadata": {},
   "outputs": [
    {
     "name": "stdout",
     "output_type": "stream",
     "text": [
      "Kiki is a 2 years old parrot\n"
     ]
    }
   ],
   "source": [
    "kiki = Parrot('parrot', 'Kiki', 2, 'red')\n",
    "kiki.description()"
   ]
  },
  {
   "cell_type": "code",
   "execution_count": 5,
   "metadata": {},
   "outputs": [
    {
     "name": "stdout",
     "output_type": "stream",
     "text": [
      "I will repeat after you: hello\n",
      "Kiki says hello\n"
     ]
    }
   ],
   "source": [
    "kiki.speak()"
   ]
  },
  {
   "cell_type": "markdown",
   "metadata": {},
   "source": [
    "One thing to keep in mind about class inheritance is that changes to the parent class automatically propagate to child classes. This occurs as long as the attribute or method being changed isn’t overridden in the child class."
   ]
  },
  {
   "cell_type": "markdown",
   "metadata": {},
   "source": [
    "To sum up this example, we have two classes: `Pet` and `Parrot`. The `Pet` is the base class, the `Parrot` is the derived class. \n",
    "\n",
    "The derived class inherits the functionality of the base class. \n",
    "\n",
    "* It is shown by the `description()` method. \n",
    "\n",
    "The derived class modifies existing behavior of the base class.\n",
    "\n",
    "* Shown by the `speak()` method. \n",
    "\n",
    "Finally, the derived class extends the functionality of the base class.\n",
    "\n",
    "* By defining a new `feather_description()` method."
   ]
  },
  {
   "cell_type": "markdown",
   "metadata": {},
   "source": [
    "### Bibliography"
   ]
  },
  {
   "cell_type": "markdown",
   "metadata": {},
   "source": [
    "* [Complete Python Bootcamp From Zero to Hero in Python](https://www.udemy.com/course/complete-python-bootcamp/)\n",
    "* [Object-Oriented Programming (OOP) in Python 3](https://realpython.com/python3-object-oriented-programming/)\n",
    "* Matthes, Eric. 2016. *Python crash course: a hands-on, project-based introduction to programming*."
   ]
  },
  {
   "cell_type": "markdown",
   "metadata": {},
   "source": []
  }
 ],
 "metadata": {
  "interpreter": {
   "hash": "5b3c7e79daed136602ebb55eea0e2e46f44fa6b81356f7b199ba448d1e4eab85"
  },
  "kernelspec": {
   "display_name": "Python 3 (ipykernel)",
   "language": "python",
   "name": "python3"
  },
  "language_info": {
   "codemirror_mode": {
    "name": "ipython",
    "version": 3
   },
   "file_extension": ".py",
   "mimetype": "text/x-python",
   "name": "python",
   "nbconvert_exporter": "python",
   "pygments_lexer": "ipython3",
   "version": "3.10.2"
  }
 },
 "nbformat": 4,
 "nbformat_minor": 2
}
