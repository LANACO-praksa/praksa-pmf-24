{
 "cells": [
  {
   "cell_type": "code",
   "execution_count": 1,
   "id": "4b52fd85",
   "metadata": {},
   "outputs": [],
   "source": [
    "import tensorflow as tf\n",
    "from tensorflow import keras\n",
    "import numpy as np\n",
    "from sklearn.metrics import classification_report"
   ]
  },
  {
   "cell_type": "code",
   "execution_count": 2,
   "id": "f0e9f9a8",
   "metadata": {},
   "outputs": [],
   "source": [
    "(x_train, y_train), (x_test, y_test) = keras.datasets.mnist.load_data()"
   ]
  },
  {
   "cell_type": "code",
   "execution_count": 3,
   "id": "a4e6cbb3",
   "metadata": {},
   "outputs": [
    {
     "name": "stdout",
     "output_type": "stream",
     "text": [
      "x_train shape: (60000, 28, 28, 1)\n",
      "60000 train samples\n",
      "10000 test samples\n"
     ]
    }
   ],
   "source": [
    "num_classes = 10\n",
    "input_shape = (28, 28, 1)\n",
    "\n",
    "# Scale images to the [0, 1] range\n",
    "x_train = x_train.astype(\"float32\") / 255\n",
    "x_test = x_test.astype(\"float32\") / 255\n",
    "# Make sure images have shape (28, 28, 1)\n",
    "x_train = np.expand_dims(x_train, -1)\n",
    "x_test = np.expand_dims(x_test, -1)\n",
    "print(\"x_train shape:\", x_train.shape)\n",
    "print(x_train.shape[0], \"train samples\")\n",
    "print(x_test.shape[0], \"test samples\")\n",
    "\n",
    "\n",
    "# convert class vectors to binary class matrices\n",
    "y_train = keras.utils.to_categorical(y_train, num_classes)\n",
    "y_test = keras.utils.to_categorical(y_test, num_classes)"
   ]
  },
  {
   "cell_type": "code",
   "execution_count": 4,
   "id": "7b1f0f01",
   "metadata": {},
   "outputs": [
    {
     "name": "stdout",
     "output_type": "stream",
     "text": [
      "Model: \"sequential\"\n",
      "_________________________________________________________________\n",
      " Layer (type)                Output Shape              Param #   \n",
      "=================================================================\n",
      " conv2d (Conv2D)             (None, 26, 26, 32)        320       \n",
      "                                                                 \n",
      " max_pooling2d (MaxPooling2D  (None, 13, 13, 32)       0         \n",
      " )                                                               \n",
      "                                                                 \n",
      " conv2d_1 (Conv2D)           (None, 11, 11, 64)        18496     \n",
      "                                                                 \n",
      " max_pooling2d_1 (MaxPooling  (None, 5, 5, 64)         0         \n",
      " 2D)                                                             \n",
      "                                                                 \n",
      " flatten (Flatten)           (None, 1600)              0         \n",
      "                                                                 \n",
      " dense (Dense)               (None, 10)                16010     \n",
      "                                                                 \n",
      "=================================================================\n",
      "Total params: 34,826\n",
      "Trainable params: 34,826\n",
      "Non-trainable params: 0\n",
      "_________________________________________________________________\n"
     ]
    }
   ],
   "source": [
    "model = keras.Sequential(\n",
    "    [\n",
    "        keras.Input(shape=input_shape),\n",
    "        keras.layers.Conv2D(32, kernel_size=(3, 3), activation=\"relu\"),\n",
    "        keras.layers.MaxPooling2D(pool_size=(2, 2)),\n",
    "        keras.layers.Conv2D(64, kernel_size=(3, 3), activation=\"relu\"),\n",
    "        keras.layers.MaxPooling2D(pool_size=(2, 2)),\n",
    "        keras.layers.Flatten(),\n",
    "        #keras.layers.Dropout(0.5),\n",
    "        keras.layers.Dense(num_classes, activation=\"softmax\"),\n",
    "    ]\n",
    ")\n",
    "\n",
    "model.summary()"
   ]
  },
  {
   "cell_type": "code",
   "execution_count": 5,
   "id": "c6561e36",
   "metadata": {},
   "outputs": [
    {
     "name": "stdout",
     "output_type": "stream",
     "text": [
      "Epoch 1/15\n",
      "422/422 [==============================] - 26s 59ms/step - loss: 0.2886 - accuracy: 0.9217 - val_loss: 0.0814 - val_accuracy: 0.9782\n",
      "Epoch 2/15\n",
      "422/422 [==============================] - 25s 58ms/step - loss: 0.0819 - accuracy: 0.9753 - val_loss: 0.0623 - val_accuracy: 0.9837\n",
      "Epoch 3/15\n",
      "422/422 [==============================] - 26s 61ms/step - loss: 0.0606 - accuracy: 0.9820 - val_loss: 0.0475 - val_accuracy: 0.9867\n",
      "Epoch 4/15\n",
      "422/422 [==============================] - 28s 66ms/step - loss: 0.0498 - accuracy: 0.9849 - val_loss: 0.0427 - val_accuracy: 0.9872\n",
      "Epoch 5/15\n",
      "422/422 [==============================] - 25s 60ms/step - loss: 0.0407 - accuracy: 0.9881 - val_loss: 0.0406 - val_accuracy: 0.9870\n",
      "Epoch 6/15\n",
      "422/422 [==============================] - 24s 58ms/step - loss: 0.0363 - accuracy: 0.9889 - val_loss: 0.0463 - val_accuracy: 0.9870\n",
      "Epoch 7/15\n",
      "422/422 [==============================] - 23s 54ms/step - loss: 0.0305 - accuracy: 0.9909 - val_loss: 0.0359 - val_accuracy: 0.9895\n",
      "Epoch 8/15\n",
      "422/422 [==============================] - 22s 52ms/step - loss: 0.0268 - accuracy: 0.9916 - val_loss: 0.0339 - val_accuracy: 0.9903\n",
      "Epoch 9/15\n",
      "422/422 [==============================] - 22s 52ms/step - loss: 0.0226 - accuracy: 0.9930 - val_loss: 0.0367 - val_accuracy: 0.9895\n",
      "Epoch 10/15\n",
      "422/422 [==============================] - 23s 54ms/step - loss: 0.0208 - accuracy: 0.9934 - val_loss: 0.0359 - val_accuracy: 0.9900\n",
      "Epoch 11/15\n",
      "422/422 [==============================] - 23s 53ms/step - loss: 0.0184 - accuracy: 0.9946 - val_loss: 0.0360 - val_accuracy: 0.9895\n",
      "Epoch 12/15\n",
      "422/422 [==============================] - 23s 54ms/step - loss: 0.0156 - accuracy: 0.9950 - val_loss: 0.0388 - val_accuracy: 0.9898\n",
      "Epoch 13/15\n",
      "422/422 [==============================] - 23s 53ms/step - loss: 0.0137 - accuracy: 0.9958 - val_loss: 0.0380 - val_accuracy: 0.9900\n",
      "Epoch 14/15\n",
      "422/422 [==============================] - 23s 54ms/step - loss: 0.0120 - accuracy: 0.9960 - val_loss: 0.0435 - val_accuracy: 0.9882\n",
      "Epoch 15/15\n",
      "422/422 [==============================] - 26s 62ms/step - loss: 0.0107 - accuracy: 0.9968 - val_loss: 0.0395 - val_accuracy: 0.9902\n"
     ]
    },
    {
     "data": {
      "text/plain": [
       "<keras.callbacks.History at 0x2318c57d940>"
      ]
     },
     "execution_count": 5,
     "metadata": {},
     "output_type": "execute_result"
    }
   ],
   "source": [
    "batch_size = 128\n",
    "epochs = 15\n",
    "\n",
    "model.compile(loss=\"categorical_crossentropy\", optimizer=\"adam\", metrics=[\"io]\"])\n",
    "\n",
    "model.fit(x_train, y_train, batch_size=batch_size, epochs=epochs, validation_split=0.1)"
   ]
  },
  {
   "cell_type": "code",
   "execution_count": 6,
   "id": "03c8a7b7",
   "metadata": {},
   "outputs": [
    {
     "name": "stdout",
     "output_type": "stream",
     "text": [
      "313/313 [==============================] - 4s 13ms/step - loss: 0.0344 - accuracy: 0.9896\n"
     ]
    },
    {
     "data": {
      "text/plain": [
       "[0.034414079040288925, 0.9896000027656555]"
      ]
     },
     "execution_count": 6,
     "metadata": {},
     "output_type": "execute_result"
    }
   ],
   "source": [
    "model.evaluate(x_test, y_test)"
   ]
  },
  {
   "cell_type": "code",
   "execution_count": 7,
   "id": "719ed52a",
   "metadata": {},
   "outputs": [
    {
     "name": "stdout",
     "output_type": "stream",
     "text": [
      "313/313 [==============================] - 2s 6ms/step\n"
     ]
    },
    {
     "data": {
      "text/plain": [
       "array([3.1824346e-14, 2.5048148e-11, 8.6755081e-10, 7.6328469e-08,\n",
       "       2.0975203e-17, 4.0264157e-13, 4.9941227e-21, 9.9999988e-01,\n",
       "       1.1145965e-10, 2.6713223e-09], dtype=float32)"
      ]
     },
     "execution_count": 7,
     "metadata": {},
     "output_type": "execute_result"
    }
   ],
   "source": [
    "y_predicted = model.predict(x_test)\n",
    "y_predicted[0]"
   ]
  },
  {
   "cell_type": "code",
   "execution_count": 8,
   "id": "62c2ed48",
   "metadata": {},
   "outputs": [
    {
     "name": "stdout",
     "output_type": "stream",
     "text": [
      "              precision    recall  f1-score   support\n",
      "\n",
      "           0       0.99      0.99      0.99       980\n",
      "           1       1.00      0.99      0.99      1135\n",
      "           2       0.99      0.98      0.99      1032\n",
      "           3       0.99      0.99      0.99      1010\n",
      "           4       0.99      0.99      0.99       982\n",
      "           5       0.99      0.99      0.99       892\n",
      "           6       0.99      0.99      0.99       958\n",
      "           7       0.99      0.99      0.99      1028\n",
      "           8       0.97      1.00      0.98       974\n",
      "           9       0.99      0.98      0.99      1009\n",
      "\n",
      "   micro avg       0.99      0.99      0.99     10000\n",
      "   macro avg       0.99      0.99      0.99     10000\n",
      "weighted avg       0.99      0.99      0.99     10000\n",
      " samples avg       0.99      0.99      0.99     10000\n",
      "\n"
     ]
    }
   ],
   "source": [
    "print(classification_report(y_test, keras.utils.to_categorical(np.argmax(y_predicted, axis=1))))"
   ]
  }
 ],
 "metadata": {
  "kernelspec": {
   "display_name": "nn_test",
   "language": "python",
   "name": "python3"
  },
  "language_info": {
   "codemirror_mode": {
    "name": "ipython",
    "version": 3
   },
   "file_extension": ".py",
   "mimetype": "text/x-python",
   "name": "python",
   "nbconvert_exporter": "python",
   "pygments_lexer": "ipython3",
   "version": "3.8.3"
  },
  "vscode": {
   "interpreter": {
    "hash": "26bef86906949c8a21c0295b45a023eccc32d68f686b6f20cd5b8d412da7414a"
   }
  }
 },
 "nbformat": 4,
 "nbformat_minor": 5
}
