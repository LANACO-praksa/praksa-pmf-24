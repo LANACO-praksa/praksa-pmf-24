{
 "cells": [
  {
   "cell_type": "code",
   "execution_count": 13,
   "id": "4b52fd85",
   "metadata": {},
   "outputs": [],
   "source": [
    "import tensorflow as tf\n",
    "from tensorflow import keras\n",
    "import numpy as np\n",
    "from sklearn.metrics import classification_report\n",
    "from matplotlib import pyplot as plt"
   ]
  },
  {
   "cell_type": "code",
   "execution_count": 14,
   "id": "f0e9f9a8",
   "metadata": {},
   "outputs": [],
   "source": [
    "(x_train, y_train), (x_test, y_test) = keras.datasets.mnist.load_data()"
   ]
  },
  {
   "cell_type": "code",
   "execution_count": 15,
   "id": "a4e6cbb3",
   "metadata": {},
   "outputs": [
    {
     "name": "stdout",
     "output_type": "stream",
     "text": [
      "x_train shape: (60000, 28, 28, 1)\n",
      "60000 train samples\n",
      "10000 test samples\n"
     ]
    }
   ],
   "source": [
    "num_classes = 10\n",
    "input_shape = (28, 28, 1)\n",
    "\n",
    "# priprema podataka\n",
    "x_train = x_train.astype(\"float32\") / 255\n",
    "x_test = x_test.astype(\"float32\") / 255\n",
    "\n",
    "\n",
    "x_train = np.expand_dims(x_train, -1)\n",
    "x_test = np.expand_dims(x_test, -1)\n",
    "print(\"x_train shape:\", x_train.shape)\n",
    "print(x_train.shape[0], \"train samples\")\n",
    "print(x_test.shape[0], \"test samples\")\n",
    "\n",
    "y_train = keras.utils.to_categorical(y_train, num_classes)\n",
    "y_test = keras.utils.to_categorical(y_test, num_classes)"
   ]
  },
  {
   "cell_type": "code",
   "execution_count": 16,
   "id": "659eb862",
   "metadata": {},
   "outputs": [],
   "source": [
    "def plot_predictions(x_data, predictions, num_samples=8):\n",
    "    \"\"\"\n",
    "    Prikaz vise slika sa predikcijama\n",
    "         \n",
    "    Args:\n",
    "        x_data (numpy.array): podaci\n",
    "        predictions (numpy.array): predikcije\n",
    "        num_samples (int): broj slika za prikazivanje\n",
    "    \"\"\"\n",
    "\n",
    "    # generisanje indeksa \n",
    "    indices = np.random.randint(0, len(x_data), size=num_samples)\n",
    "    \n",
    "    # kreiranje plot-a\n",
    "    fig, axes = plt.subplots(1, num_samples, figsize=(15, 3))\n",
    "    \n",
    "    for i, id in enumerate(indices):\n",
    "        image = x_data[id].reshape(28, 28) # reshape u 2D\n",
    "        prediction = np.argmax(predictions[id]) # pronalazenje indeksa najveceg elementa\n",
    "        \n",
    "        axes[i].imshow(image, cmap='gray')\n",
    "        axes[i].axis('off')\n",
    "        axes[i].set_title(f\"predikcija: {prediction}\")\n",
    "    \n",
    "    plt.show()"
   ]
  },
  {
   "cell_type": "code",
   "execution_count": 17,
   "id": "7b1f0f01",
   "metadata": {},
   "outputs": [
    {
     "name": "stdout",
     "output_type": "stream",
     "text": [
      "Model: \"sequential_1\"\n",
      "_________________________________________________________________\n",
      " Layer (type)                Output Shape              Param #   \n",
      "=================================================================\n",
      " conv2d_2 (Conv2D)           (None, 26, 26, 32)        320       \n",
      "                                                                 \n",
      " max_pooling2d_2 (MaxPoolin  (None, 13, 13, 32)        0         \n",
      " g2D)                                                            \n",
      "                                                                 \n",
      " conv2d_3 (Conv2D)           (None, 11, 11, 64)        18496     \n",
      "                                                                 \n",
      " max_pooling2d_3 (MaxPoolin  (None, 5, 5, 64)          0         \n",
      " g2D)                                                            \n",
      "                                                                 \n",
      " flatten_1 (Flatten)         (None, 1600)              0         \n",
      "                                                                 \n",
      " dense_1 (Dense)             (None, 10)                16010     \n",
      "                                                                 \n",
      "=================================================================\n",
      "Total params: 34826 (136.04 KB)\n",
      "Trainable params: 34826 (136.04 KB)\n",
      "Non-trainable params: 0 (0.00 Byte)\n",
      "_________________________________________________________________\n"
     ]
    }
   ],
   "source": [
    "# kreiranje modela\n",
    "model = keras.Sequential(\n",
    "    [\n",
    "        keras.Input(shape=input_shape),\n",
    "        keras.layers.Conv2D(32, kernel_size=(3, 3), activation=\"relu\"),\n",
    "        keras.layers.MaxPooling2D(pool_size=(2, 2)),\n",
    "        keras.layers.Conv2D(64, kernel_size=(3, 3), activation=\"relu\"),\n",
    "        keras.layers.MaxPooling2D(pool_size=(2, 2)),\n",
    "        keras.layers.Flatten(),\n",
    "        keras.layers.Dense(num_classes, activation=\"softmax\"),\n",
    "    ]\n",
    ")\n",
    "\n",
    "model.summary()"
   ]
  },
  {
   "cell_type": "code",
   "execution_count": 19,
   "id": "c6561e36",
   "metadata": {},
   "outputs": [
    {
     "name": "stdout",
     "output_type": "stream",
     "text": [
      "Epoch 1/15\n",
      "465/465 [==============================] - 15s 32ms/step - loss: 0.0899 - accuracy: 0.1507 - val_loss: 0.0898 - val_accuracy: 0.1650\n",
      "Epoch 2/15\n",
      "465/465 [==============================] - 14s 31ms/step - loss: 0.0896 - accuracy: 0.2021 - val_loss: 0.0895 - val_accuracy: 0.2167\n",
      "Epoch 3/15\n",
      "465/465 [==============================] - 14s 30ms/step - loss: 0.0894 - accuracy: 0.2442 - val_loss: 0.0893 - val_accuracy: 0.2383\n",
      "Epoch 4/15\n",
      "465/465 [==============================] - 14s 31ms/step - loss: 0.0891 - accuracy: 0.2812 - val_loss: 0.0890 - val_accuracy: 0.2683\n",
      "Epoch 5/15\n",
      "465/465 [==============================] - 14s 29ms/step - loss: 0.0888 - accuracy: 0.3147 - val_loss: 0.0887 - val_accuracy: 0.2967\n",
      "Epoch 6/15\n",
      "465/465 [==============================] - 13s 29ms/step - loss: 0.0885 - accuracy: 0.3438 - val_loss: 0.0883 - val_accuracy: 0.3183\n",
      "Epoch 7/15\n",
      "465/465 [==============================] - 16s 34ms/step - loss: 0.0880 - accuracy: 0.3678 - val_loss: 0.0878 - val_accuracy: 0.3400\n",
      "Epoch 8/15\n",
      "465/465 [==============================] - 15s 31ms/step - loss: 0.0876 - accuracy: 0.3852 - val_loss: 0.0873 - val_accuracy: 0.3483\n",
      "Epoch 9/15\n",
      "465/465 [==============================] - 15s 32ms/step - loss: 0.0869 - accuracy: 0.3967 - val_loss: 0.0866 - val_accuracy: 0.3567\n",
      "Epoch 10/15\n",
      "465/465 [==============================] - 13s 28ms/step - loss: 0.0861 - accuracy: 0.4034 - val_loss: 0.0857 - val_accuracy: 0.3800\n",
      "Epoch 11/15\n",
      "465/465 [==============================] - 15s 31ms/step - loss: 0.0851 - accuracy: 0.4065 - val_loss: 0.0844 - val_accuracy: 0.3817\n",
      "Epoch 12/15\n",
      "465/465 [==============================] - 15s 31ms/step - loss: 0.0836 - accuracy: 0.4106 - val_loss: 0.0826 - val_accuracy: 0.3867\n",
      "Epoch 13/15\n",
      "465/465 [==============================] - 18s 39ms/step - loss: 0.0813 - accuracy: 0.4196 - val_loss: 0.0799 - val_accuracy: 0.4083\n",
      "Epoch 14/15\n",
      "465/465 [==============================] - 18s 38ms/step - loss: 0.0780 - accuracy: 0.4427 - val_loss: 0.0758 - val_accuracy: 0.4683\n",
      "Epoch 15/15\n",
      "465/465 [==============================] - 13s 29ms/step - loss: 0.0734 - accuracy: 0.5003 - val_loss: 0.0699 - val_accuracy: 0.5683\n"
     ]
    },
    {
     "data": {
      "text/plain": [
       "<keras.src.callbacks.History at 0x7ff4ac50e800>"
      ]
     },
     "execution_count": 19,
     "metadata": {},
     "output_type": "execute_result"
    }
   ],
   "source": [
    "batch_size = 128\n",
    "epochs = 15\n",
    "\n",
    "# kompilacija i treniranje modela\n",
    "model.compile(loss=\"mean_squared_error\", optimizer=\"sgd\", metrics=[\"accuracy\"])\n",
    "\n",
    "model.fit(x_train, y_train, batch_size=batch_size, epochs=epochs, validation_split=0.01)"
   ]
  },
  {
   "cell_type": "code",
   "execution_count": 20,
   "id": "03c8a7b7",
   "metadata": {},
   "outputs": [
    {
     "name": "stdout",
     "output_type": "stream",
     "text": [
      "313/313 [==============================] - 1s 3ms/step - loss: 0.0700 - accuracy: 0.5513\n"
     ]
    },
    {
     "data": {
      "text/plain": [
       "[0.07001891732215881, 0.5512999892234802]"
      ]
     },
     "execution_count": 20,
     "metadata": {},
     "output_type": "execute_result"
    }
   ],
   "source": [
    "model.evaluate(x_test, y_test)"
   ]
  },
  {
   "cell_type": "code",
   "execution_count": 21,
   "id": "719ed52a",
   "metadata": {},
   "outputs": [
    {
     "name": "stdout",
     "output_type": "stream",
     "text": [
      "313/313 [==============================] - 1s 3ms/step\n"
     ]
    }
   ],
   "source": [
    "y_predicted = model.predict(x_test)"
   ]
  },
  {
   "cell_type": "code",
   "execution_count": 22,
   "id": "62c2ed48",
   "metadata": {},
   "outputs": [
    {
     "name": "stdout",
     "output_type": "stream",
     "text": [
      "              precision    recall  f1-score   support\n",
      "\n",
      "           0       0.43      0.98      0.60       980\n",
      "           1       0.48      0.99      0.65      1135\n",
      "           2       0.72      0.67      0.69      1032\n",
      "           3       0.86      0.35      0.49      1010\n",
      "           4       0.56      0.80      0.66       982\n",
      "           5       1.00      0.00      0.00       892\n",
      "           6       0.67      0.64      0.65       958\n",
      "           7       0.56      0.83      0.67      1028\n",
      "           8       0.00      0.00      0.00       974\n",
      "           9       0.63      0.13      0.22      1009\n",
      "\n",
      "   micro avg       0.55      0.55      0.55     10000\n",
      "   macro avg       0.59      0.54      0.46     10000\n",
      "weighted avg       0.59      0.55      0.47     10000\n",
      " samples avg       0.55      0.55      0.55     10000\n",
      "\n"
     ]
    }
   ],
   "source": [
    "print(classification_report(y_test, keras.utils.to_categorical(np.argmax(y_predicted, axis=1))))"
   ]
  },
  {
   "cell_type": "code",
   "execution_count": 30,
   "id": "619ff2cd",
   "metadata": {},
   "outputs": [
    {
     "data": {
      "image/png": "[encoded data removed]",
      "text/plain": [
       "<Figure size 1500x300 with 8 Axes>"
      ]
     },
     "metadata": {},
     "output_type": "display_data"
    }
   ],
   "source": [
    "plot_predictions(x_test, y_predicted, num_samples=8)"
   ]
  }
 ],
 "metadata": {
  "kernelspec": {
   "display_name": "nn_test",
   "language": "python",
   "name": "python3"
  },
  "language_info": {
   "codemirror_mode": {
    "name": "ipython",
    "version": 3
   },
   "file_extension": ".py",
   "mimetype": "text/x-python",
   "name": "python",
   "nbconvert_exporter": "python",
   "pygments_lexer": "ipython3",
   "version": "3.10.12"
  },
  "vscode": {
   "interpreter": {
    "hash": "26bef86906949c8a21c0295b45a023eccc32d68f686b6f20cd5b8d412da7414a"
   }
  }
 },
 "nbformat": 4,
 "nbformat_minor": 5
}
