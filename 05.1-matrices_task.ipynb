{
 "cells": [
  {
   "attachments": {},
   "cell_type": "markdown",
   "metadata": {},
   "source": [
    "**Zadatak:**\n",
    "\n",
    "Napiši funkciju *n_dot_products()* koja kao parametar uzima prirodan broj $n$. Funkcija bi trebala da napravi nasumičan vektor dimenzija $n\\times1$ i množi ga sa nasumičnom matricom odgovarajućih dimenzija kako bi se dobio vektor dimenzije $(n-1)\\times1$. Dalje se taj vektor množi sa nasumičnim matricama tako da mu se broj redova smanjuje dok ne dođe na 1 tj. dok ne postane formata $1\\times1$. Pokušati imitirati korištenje funkcija aktivacija u neuronskoj mreži kako se ne bi dobio prevelik broj."
   ]
  }
 ],
 "metadata": {
  "kernelspec": {
   "display_name": "nn_test",
   "language": "python",
   "name": "python3"
  },
  "language_info": {
   "codemirror_mode": {
    "name": "ipython",
    "version": 3
   },
   "file_extension": ".py",
   "mimetype": "text/x-python",
   "name": "python",
   "nbconvert_exporter": "python",
   "pygments_lexer": "ipython3",
   "version": "3.8.3"
  },
  "orig_nbformat": 4,
  "vscode": {
   "interpreter": {
    "hash": "26bef86906949c8a21c0295b45a023eccc32d68f686b6f20cd5b8d412da7414a"
   }
  }
 },
 "nbformat": 4,
 "nbformat_minor": 2
}
