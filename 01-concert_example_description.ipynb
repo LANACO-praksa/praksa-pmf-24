{
 "cells": [
  {
   "cell_type": "markdown",
   "id": "60d5fa39",
   "metadata": {},
   "source": [
    "Input-i:\n",
    "\n",
    "$x_1$ - temperatura za vikend (hladno = 0 ili toplo = 1)\n",
    "\n",
    "$x_2$ - mjesto održavanja koncerta (na otvorenom = 0 ili u zatvorenom = 1)\n",
    "\n",
    "$x_3$ - prognoza vremena za vikenda (padavine = 0 ili bez padavina = 1)\n",
    "\n",
    "$x_4$ - udaljenost (daleko = 0 ili blizu = 1)\n",
    "\n",
    "$x_5$ - komplikacije pri putovanju (vjerovatne = 0 ili nikakve = 1)\n",
    "\n",
    "$x_6$ - da li prijatelji imaju slične planove (bez društva = 0 ili u društvu = 1)\n",
    "\n"
   ]
  },
  {
   "cell_type": "markdown",
   "id": "e304941b",
   "metadata": {},
   "source": [
    "Čvorovi koji obrađuju input:\n",
    "\n",
    "$n_1$ - vremenski uslovi. Ovaj čvor nastaje obradom informacija koje nose input-i $x_1$, $x_2$ i $x_3$ sa težinama $w_1=3$, $w_2=5$ i $w_3=4$ redom. Vrijeme je nebitno ako se koncert drži na zatvorenom, stoga odgovarajući prag $t_1$ bi mogao biti onaj koji će omogućiti da $n_1$ reaguje kad $x_2$ šalje impuls tj. $t_1<5$, tj. vremenski uslovi su u redu ako je hladno i ima padavina dok god je koncert na zatvorenom. Ako izaberemo npr. $t_1=2$, to bi značilo da je vrijeme prihvatljivo kad je koncert na otvorenom, toplo i ima padavina. Ako želimo izbjeći kišu, možemo odabrati $t_1=3$, jer onda nije dovoljno da je samo toplo. Ukoliko stavimo $t_1=4$, tada znači da ne odgovara ni ako je hladno i bez padavina. Uzećemo da je $t_1=4$.\n",
    "\n",
    "$n_2$ - lokacija koncerta. Ovaj čvor nastaje obradom informacija koje nose input-i $x_3$, $x_4$ i $x_5$ sa težinama $w_4=2$, $w_5=3$ i $w_6=4$ redom. Ne želimo da idemo ako je daleko i ako je putovanje komplikovano (bez auta, nema direktnog prevoza), ali nam možda neće smetati što pada kiša ako je blizu ili ako pada i nema komplikacija pri putovanju. U tom slučaju možemo staviti da prag bude $t_2=2$.\n",
    "\n",
    "$n_3$ - da li prijatelji imaju slične planove. Ovaj čvor nosi istu informaciju kao $x_6$, pa bi trebao da reaguje ako i samo ako $x_6$ šalje pozitivan impuls."
   ]
  },
  {
   "cell_type": "markdown",
   "id": "c758d026",
   "metadata": {},
   "source": [
    "Output čvor n ima samo jednu informaciju koja nam govori da li treba da idemo ili ne. Priča o težinama i pragovima $n_1$, $n_2$ i $n_3$ je ista kao u prethodnom primjeru. Odluka će ovisiti o bitnosti vremena, udaljenosti i društva."
   ]
  },
  {
   "cell_type": "markdown",
   "id": "3386f39e",
   "metadata": {},
   "source": [
    "Sa ovakvim težinama i pragovima možemo ići na koncert ako je lokacija u redu i imamo društvo bez obzira na to da li čvor za vremenske uslove $n_1$ reaguje ili ne. To znači da je moguće ići na koncert na otvorenom kad je hladno i ima padavina. Šta bi se moglo promijeniti od težina i/ili pragova da to izbjegnemo? I dalje želimo da idemo na koncert ako je lokacija dobra i društvo prisutno, tj. da čvor $n_1$ nije uvijek presudan."
   ]
  }
 ],
 "metadata": {
  "kernelspec": {
   "display_name": "Python 3 (ipykernel)",
   "language": "python",
   "name": "python3"
  },
  "language_info": {
   "codemirror_mode": {
    "name": "ipython",
    "version": 3
   },
   "file_extension": ".py",
   "mimetype": "text/x-python",
   "name": "python",
   "nbconvert_exporter": "python",
   "pygments_lexer": "ipython3",
   "version": "3.8.3"
  },
  "vscode": {
   "interpreter": {
    "hash": "53e26e92eb047fac0a8b0208801dfe952f4f8952e82e087046918172140b19c2"
   }
  }
 },
 "nbformat": 4,
 "nbformat_minor": 5
}
