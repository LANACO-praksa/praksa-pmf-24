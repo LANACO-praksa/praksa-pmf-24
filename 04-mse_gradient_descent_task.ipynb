{
 "cells": [
  {
   "attachments": {},
   "cell_type": "markdown",
   "metadata": {},
   "source": [
    "**Zadatak:**\n",
    "\n",
    "Koristeći gradijentni spust i srednju kvadratnu grešku (mean squared error) aproksimirati parametre linearne regresije: <br> $y=ax+b$."
   ]
  },
  {
   "cell_type": "markdown",
   "metadata": {},
   "source": [
    "Radi praktičnosti uzeti za $x$ i $y$ sljedeće vrijednosti."
   ]
  },
  {
   "cell_type": "code",
   "execution_count": null,
   "metadata": {},
   "outputs": [],
   "source": [
    "x = [1, -2, 3, -4]\n",
    "y = [7, -2, 13, -8]"
   ]
  },
  {
   "cell_type": "code",
   "execution_count": null,
   "metadata": {},
   "outputs": [],
   "source": [
    "import numpy as np"
   ]
  },
  {
   "cell_type": "code",
   "execution_count": null,
   "metadata": {},
   "outputs": [],
   "source": [
    "def mse(y_true, y_pred):\n",
    "    return np.mean(np.power(y_true-y_pred, 2))/2\n",
    "\n",
    "def mse_prime(y_true, y_pred):\n",
    "    return (y_pred-y_true)/y_true.size"
   ]
  }
 ],
 "metadata": {
  "kernelspec": {
   "display_name": "ttt",
   "language": "python",
   "name": "python3"
  },
  "language_info": {
   "codemirror_mode": {
    "name": "ipython",
    "version": 3
   },
   "file_extension": ".py",
   "mimetype": "text/x-python",
   "name": "python",
   "nbconvert_exporter": "python",
   "pygments_lexer": "ipython3",
   "version": "3.11.0"
  },
  "orig_nbformat": 4,
  "vscode": {
   "interpreter": {
    "hash": "4e836f20cc9888882c44ce73378b207b8dc7ca0037f543abb654469152fc65f2"
   }
  }
 },
 "nbformat": 4,
 "nbformat_minor": 2
}
